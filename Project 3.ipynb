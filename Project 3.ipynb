{
 "cells": [
  {
   "cell_type": "markdown",
   "metadata": {},
   "source": [
    "# Step 1. Reading in Data"
   ]
  },
  {
   "cell_type": "code",
   "execution_count": 1,
   "metadata": {},
   "outputs": [],
   "source": [
    "import pandas as pd"
   ]
  },
  {
   "cell_type": "code",
   "execution_count": 2,
   "metadata": {},
   "outputs": [],
   "source": [
    "import matplotlib.pyplot as plt"
   ]
  },
  {
   "cell_type": "code",
   "execution_count": 3,
   "metadata": {},
   "outputs": [],
   "source": [
    "import scipy.stats as st"
   ]
  },
  {
   "cell_type": "code",
   "execution_count": 4,
   "metadata": {},
   "outputs": [],
   "source": [
    "datasets = ['megaline_calls.csv', 'megaline_internet.csv', 'megaline_messages.csv', \n",
    "            'megaline_tariffs.csv', 'megaline_users.csv']"
   ]
  },
  {
   "cell_type": "code",
   "execution_count": 5,
   "metadata": {},
   "outputs": [],
   "source": [
    "calls = pd.read_csv(datasets[0])"
   ]
  },
  {
   "cell_type": "code",
   "execution_count": 6,
   "metadata": {},
   "outputs": [],
   "source": [
    "internet = pd.read_csv(datasets[1])"
   ]
  },
  {
   "cell_type": "code",
   "execution_count": 7,
   "metadata": {},
   "outputs": [],
   "source": [
    "messages = pd.read_csv(datasets[2])"
   ]
  },
  {
   "cell_type": "code",
   "execution_count": 8,
   "metadata": {},
   "outputs": [],
   "source": [
    "tariffs = pd.read_csv(datasets[3])"
   ]
  },
  {
   "cell_type": "code",
   "execution_count": 9,
   "metadata": {},
   "outputs": [],
   "source": [
    "users = pd.read_csv(datasets[4])"
   ]
  },
  {
   "cell_type": "code",
   "execution_count": 10,
   "metadata": {},
   "outputs": [
    {
     "data": {
      "text/html": [
       "<div>\n",
       "<style scoped>\n",
       "    .dataframe tbody tr th:only-of-type {\n",
       "        vertical-align: middle;\n",
       "    }\n",
       "\n",
       "    .dataframe tbody tr th {\n",
       "        vertical-align: top;\n",
       "    }\n",
       "\n",
       "    .dataframe thead th {\n",
       "        text-align: right;\n",
       "    }\n",
       "</style>\n",
       "<table border=\"1\" class=\"dataframe\">\n",
       "  <thead>\n",
       "    <tr style=\"text-align: right;\">\n",
       "      <th></th>\n",
       "      <th>id</th>\n",
       "      <th>user_id</th>\n",
       "      <th>call_date</th>\n",
       "      <th>duration</th>\n",
       "    </tr>\n",
       "  </thead>\n",
       "  <tbody>\n",
       "    <tr>\n",
       "      <td>0</td>\n",
       "      <td>1000_93</td>\n",
       "      <td>1000</td>\n",
       "      <td>2018-12-27</td>\n",
       "      <td>8.52</td>\n",
       "    </tr>\n",
       "    <tr>\n",
       "      <td>1</td>\n",
       "      <td>1000_145</td>\n",
       "      <td>1000</td>\n",
       "      <td>2018-12-27</td>\n",
       "      <td>13.66</td>\n",
       "    </tr>\n",
       "    <tr>\n",
       "      <td>2</td>\n",
       "      <td>1000_247</td>\n",
       "      <td>1000</td>\n",
       "      <td>2018-12-27</td>\n",
       "      <td>14.48</td>\n",
       "    </tr>\n",
       "    <tr>\n",
       "      <td>3</td>\n",
       "      <td>1000_309</td>\n",
       "      <td>1000</td>\n",
       "      <td>2018-12-28</td>\n",
       "      <td>5.76</td>\n",
       "    </tr>\n",
       "    <tr>\n",
       "      <td>4</td>\n",
       "      <td>1000_380</td>\n",
       "      <td>1000</td>\n",
       "      <td>2018-12-30</td>\n",
       "      <td>4.22</td>\n",
       "    </tr>\n",
       "  </tbody>\n",
       "</table>\n",
       "</div>"
      ],
      "text/plain": [
       "         id  user_id   call_date  duration\n",
       "0   1000_93     1000  2018-12-27      8.52\n",
       "1  1000_145     1000  2018-12-27     13.66\n",
       "2  1000_247     1000  2018-12-27     14.48\n",
       "3  1000_309     1000  2018-12-28      5.76\n",
       "4  1000_380     1000  2018-12-30      4.22"
      ]
     },
     "execution_count": 10,
     "metadata": {},
     "output_type": "execute_result"
    }
   ],
   "source": [
    "calls.head()"
   ]
  },
  {
   "cell_type": "code",
   "execution_count": 11,
   "metadata": {},
   "outputs": [
    {
     "data": {
      "text/html": [
       "<div>\n",
       "<style scoped>\n",
       "    .dataframe tbody tr th:only-of-type {\n",
       "        vertical-align: middle;\n",
       "    }\n",
       "\n",
       "    .dataframe tbody tr th {\n",
       "        vertical-align: top;\n",
       "    }\n",
       "\n",
       "    .dataframe thead th {\n",
       "        text-align: right;\n",
       "    }\n",
       "</style>\n",
       "<table border=\"1\" class=\"dataframe\">\n",
       "  <thead>\n",
       "    <tr style=\"text-align: right;\">\n",
       "      <th></th>\n",
       "      <th>id</th>\n",
       "      <th>user_id</th>\n",
       "      <th>session_date</th>\n",
       "      <th>mb_used</th>\n",
       "    </tr>\n",
       "  </thead>\n",
       "  <tbody>\n",
       "    <tr>\n",
       "      <td>0</td>\n",
       "      <td>1000_13</td>\n",
       "      <td>1000</td>\n",
       "      <td>2018-12-29</td>\n",
       "      <td>89.86</td>\n",
       "    </tr>\n",
       "    <tr>\n",
       "      <td>1</td>\n",
       "      <td>1000_204</td>\n",
       "      <td>1000</td>\n",
       "      <td>2018-12-31</td>\n",
       "      <td>0.00</td>\n",
       "    </tr>\n",
       "    <tr>\n",
       "      <td>2</td>\n",
       "      <td>1000_379</td>\n",
       "      <td>1000</td>\n",
       "      <td>2018-12-28</td>\n",
       "      <td>660.40</td>\n",
       "    </tr>\n",
       "    <tr>\n",
       "      <td>3</td>\n",
       "      <td>1000_413</td>\n",
       "      <td>1000</td>\n",
       "      <td>2018-12-26</td>\n",
       "      <td>270.99</td>\n",
       "    </tr>\n",
       "    <tr>\n",
       "      <td>4</td>\n",
       "      <td>1000_442</td>\n",
       "      <td>1000</td>\n",
       "      <td>2018-12-27</td>\n",
       "      <td>880.22</td>\n",
       "    </tr>\n",
       "  </tbody>\n",
       "</table>\n",
       "</div>"
      ],
      "text/plain": [
       "         id  user_id session_date  mb_used\n",
       "0   1000_13     1000   2018-12-29    89.86\n",
       "1  1000_204     1000   2018-12-31     0.00\n",
       "2  1000_379     1000   2018-12-28   660.40\n",
       "3  1000_413     1000   2018-12-26   270.99\n",
       "4  1000_442     1000   2018-12-27   880.22"
      ]
     },
     "execution_count": 11,
     "metadata": {},
     "output_type": "execute_result"
    }
   ],
   "source": [
    "internet.head()"
   ]
  },
  {
   "cell_type": "code",
   "execution_count": 12,
   "metadata": {},
   "outputs": [
    {
     "data": {
      "text/html": [
       "<div>\n",
       "<style scoped>\n",
       "    .dataframe tbody tr th:only-of-type {\n",
       "        vertical-align: middle;\n",
       "    }\n",
       "\n",
       "    .dataframe tbody tr th {\n",
       "        vertical-align: top;\n",
       "    }\n",
       "\n",
       "    .dataframe thead th {\n",
       "        text-align: right;\n",
       "    }\n",
       "</style>\n",
       "<table border=\"1\" class=\"dataframe\">\n",
       "  <thead>\n",
       "    <tr style=\"text-align: right;\">\n",
       "      <th></th>\n",
       "      <th>id</th>\n",
       "      <th>user_id</th>\n",
       "      <th>message_date</th>\n",
       "    </tr>\n",
       "  </thead>\n",
       "  <tbody>\n",
       "    <tr>\n",
       "      <td>0</td>\n",
       "      <td>1000_125</td>\n",
       "      <td>1000</td>\n",
       "      <td>2018-12-27</td>\n",
       "    </tr>\n",
       "    <tr>\n",
       "      <td>1</td>\n",
       "      <td>1000_160</td>\n",
       "      <td>1000</td>\n",
       "      <td>2018-12-31</td>\n",
       "    </tr>\n",
       "    <tr>\n",
       "      <td>2</td>\n",
       "      <td>1000_223</td>\n",
       "      <td>1000</td>\n",
       "      <td>2018-12-31</td>\n",
       "    </tr>\n",
       "    <tr>\n",
       "      <td>3</td>\n",
       "      <td>1000_251</td>\n",
       "      <td>1000</td>\n",
       "      <td>2018-12-27</td>\n",
       "    </tr>\n",
       "    <tr>\n",
       "      <td>4</td>\n",
       "      <td>1000_255</td>\n",
       "      <td>1000</td>\n",
       "      <td>2018-12-26</td>\n",
       "    </tr>\n",
       "  </tbody>\n",
       "</table>\n",
       "</div>"
      ],
      "text/plain": [
       "         id  user_id message_date\n",
       "0  1000_125     1000   2018-12-27\n",
       "1  1000_160     1000   2018-12-31\n",
       "2  1000_223     1000   2018-12-31\n",
       "3  1000_251     1000   2018-12-27\n",
       "4  1000_255     1000   2018-12-26"
      ]
     },
     "execution_count": 12,
     "metadata": {},
     "output_type": "execute_result"
    }
   ],
   "source": [
    "messages.head()"
   ]
  },
  {
   "cell_type": "code",
   "execution_count": 13,
   "metadata": {},
   "outputs": [
    {
     "data": {
      "text/html": [
       "<div>\n",
       "<style scoped>\n",
       "    .dataframe tbody tr th:only-of-type {\n",
       "        vertical-align: middle;\n",
       "    }\n",
       "\n",
       "    .dataframe tbody tr th {\n",
       "        vertical-align: top;\n",
       "    }\n",
       "\n",
       "    .dataframe thead th {\n",
       "        text-align: right;\n",
       "    }\n",
       "</style>\n",
       "<table border=\"1\" class=\"dataframe\">\n",
       "  <thead>\n",
       "    <tr style=\"text-align: right;\">\n",
       "      <th></th>\n",
       "      <th>messages_included</th>\n",
       "      <th>mb_per_month_included</th>\n",
       "      <th>minutes_included</th>\n",
       "      <th>usd_monthly_pay</th>\n",
       "      <th>usd_per_gb</th>\n",
       "      <th>usd_per_message</th>\n",
       "      <th>usd_per_minute</th>\n",
       "      <th>tariff_name</th>\n",
       "    </tr>\n",
       "  </thead>\n",
       "  <tbody>\n",
       "    <tr>\n",
       "      <td>0</td>\n",
       "      <td>50</td>\n",
       "      <td>15360</td>\n",
       "      <td>500</td>\n",
       "      <td>20</td>\n",
       "      <td>10</td>\n",
       "      <td>0.03</td>\n",
       "      <td>0.03</td>\n",
       "      <td>surf</td>\n",
       "    </tr>\n",
       "    <tr>\n",
       "      <td>1</td>\n",
       "      <td>1000</td>\n",
       "      <td>30720</td>\n",
       "      <td>3000</td>\n",
       "      <td>70</td>\n",
       "      <td>7</td>\n",
       "      <td>0.01</td>\n",
       "      <td>0.01</td>\n",
       "      <td>ultimate</td>\n",
       "    </tr>\n",
       "  </tbody>\n",
       "</table>\n",
       "</div>"
      ],
      "text/plain": [
       "   messages_included  mb_per_month_included  minutes_included  \\\n",
       "0                 50                  15360               500   \n",
       "1               1000                  30720              3000   \n",
       "\n",
       "   usd_monthly_pay  usd_per_gb  usd_per_message  usd_per_minute tariff_name  \n",
       "0               20          10             0.03            0.03        surf  \n",
       "1               70           7             0.01            0.01    ultimate  "
      ]
     },
     "execution_count": 13,
     "metadata": {},
     "output_type": "execute_result"
    }
   ],
   "source": [
    "tariffs.head()"
   ]
  },
  {
   "cell_type": "code",
   "execution_count": 14,
   "metadata": {},
   "outputs": [
    {
     "data": {
      "text/html": [
       "<div>\n",
       "<style scoped>\n",
       "    .dataframe tbody tr th:only-of-type {\n",
       "        vertical-align: middle;\n",
       "    }\n",
       "\n",
       "    .dataframe tbody tr th {\n",
       "        vertical-align: top;\n",
       "    }\n",
       "\n",
       "    .dataframe thead th {\n",
       "        text-align: right;\n",
       "    }\n",
       "</style>\n",
       "<table border=\"1\" class=\"dataframe\">\n",
       "  <thead>\n",
       "    <tr style=\"text-align: right;\">\n",
       "      <th></th>\n",
       "      <th>user_id</th>\n",
       "      <th>first_name</th>\n",
       "      <th>last_name</th>\n",
       "      <th>age</th>\n",
       "      <th>city</th>\n",
       "      <th>reg_date</th>\n",
       "      <th>tariff</th>\n",
       "      <th>churn_date</th>\n",
       "    </tr>\n",
       "  </thead>\n",
       "  <tbody>\n",
       "    <tr>\n",
       "      <td>0</td>\n",
       "      <td>1000</td>\n",
       "      <td>Anamaria</td>\n",
       "      <td>Bauer</td>\n",
       "      <td>45</td>\n",
       "      <td>Atlanta-Sandy Springs-Roswell, GA MSA</td>\n",
       "      <td>2018-12-24</td>\n",
       "      <td>ultimate</td>\n",
       "      <td>NaN</td>\n",
       "    </tr>\n",
       "    <tr>\n",
       "      <td>1</td>\n",
       "      <td>1001</td>\n",
       "      <td>Mickey</td>\n",
       "      <td>Wilkerson</td>\n",
       "      <td>28</td>\n",
       "      <td>Seattle-Tacoma-Bellevue, WA MSA</td>\n",
       "      <td>2018-08-13</td>\n",
       "      <td>surf</td>\n",
       "      <td>NaN</td>\n",
       "    </tr>\n",
       "    <tr>\n",
       "      <td>2</td>\n",
       "      <td>1002</td>\n",
       "      <td>Carlee</td>\n",
       "      <td>Hoffman</td>\n",
       "      <td>36</td>\n",
       "      <td>Las Vegas-Henderson-Paradise, NV MSA</td>\n",
       "      <td>2018-10-21</td>\n",
       "      <td>surf</td>\n",
       "      <td>NaN</td>\n",
       "    </tr>\n",
       "    <tr>\n",
       "      <td>3</td>\n",
       "      <td>1003</td>\n",
       "      <td>Reynaldo</td>\n",
       "      <td>Jenkins</td>\n",
       "      <td>52</td>\n",
       "      <td>Tulsa, OK MSA</td>\n",
       "      <td>2018-01-28</td>\n",
       "      <td>surf</td>\n",
       "      <td>NaN</td>\n",
       "    </tr>\n",
       "    <tr>\n",
       "      <td>4</td>\n",
       "      <td>1004</td>\n",
       "      <td>Leonila</td>\n",
       "      <td>Thompson</td>\n",
       "      <td>40</td>\n",
       "      <td>Seattle-Tacoma-Bellevue, WA MSA</td>\n",
       "      <td>2018-05-23</td>\n",
       "      <td>surf</td>\n",
       "      <td>NaN</td>\n",
       "    </tr>\n",
       "  </tbody>\n",
       "</table>\n",
       "</div>"
      ],
      "text/plain": [
       "   user_id first_name  last_name  age                                   city  \\\n",
       "0     1000   Anamaria      Bauer   45  Atlanta-Sandy Springs-Roswell, GA MSA   \n",
       "1     1001     Mickey  Wilkerson   28        Seattle-Tacoma-Bellevue, WA MSA   \n",
       "2     1002     Carlee    Hoffman   36   Las Vegas-Henderson-Paradise, NV MSA   \n",
       "3     1003   Reynaldo    Jenkins   52                          Tulsa, OK MSA   \n",
       "4     1004    Leonila   Thompson   40        Seattle-Tacoma-Bellevue, WA MSA   \n",
       "\n",
       "     reg_date    tariff churn_date  \n",
       "0  2018-12-24  ultimate        NaN  \n",
       "1  2018-08-13      surf        NaN  \n",
       "2  2018-10-21      surf        NaN  \n",
       "3  2018-01-28      surf        NaN  \n",
       "4  2018-05-23      surf        NaN  "
      ]
     },
     "execution_count": 14,
     "metadata": {},
     "output_type": "execute_result"
    }
   ],
   "source": [
    "users.head()"
   ]
  },
  {
   "cell_type": "code",
   "execution_count": 15,
   "metadata": {},
   "outputs": [
    {
     "name": "stdout",
     "output_type": "stream",
     "text": [
      "<class 'pandas.core.frame.DataFrame'>\n",
      "RangeIndex: 137735 entries, 0 to 137734\n",
      "Data columns (total 4 columns):\n",
      "id           137735 non-null object\n",
      "user_id      137735 non-null int64\n",
      "call_date    137735 non-null object\n",
      "duration     137735 non-null float64\n",
      "dtypes: float64(1), int64(1), object(2)\n",
      "memory usage: 4.2+ MB\n"
     ]
    }
   ],
   "source": [
    "calls.info()"
   ]
  },
  {
   "cell_type": "code",
   "execution_count": 16,
   "metadata": {},
   "outputs": [
    {
     "data": {
      "text/plain": [
       "count    137735.000000\n",
       "mean          6.745927\n",
       "std           5.839241\n",
       "min           0.000000\n",
       "25%           1.290000\n",
       "50%           5.980000\n",
       "75%          10.690000\n",
       "max          37.600000\n",
       "Name: duration, dtype: float64"
      ]
     },
     "execution_count": 16,
     "metadata": {},
     "output_type": "execute_result"
    }
   ],
   "source": [
    "calls['duration'].describe()"
   ]
  },
  {
   "cell_type": "code",
   "execution_count": 17,
   "metadata": {},
   "outputs": [
    {
     "name": "stdout",
     "output_type": "stream",
     "text": [
      "<class 'pandas.core.frame.DataFrame'>\n",
      "RangeIndex: 104825 entries, 0 to 104824\n",
      "Data columns (total 4 columns):\n",
      "id              104825 non-null object\n",
      "user_id         104825 non-null int64\n",
      "session_date    104825 non-null object\n",
      "mb_used         104825 non-null float64\n",
      "dtypes: float64(1), int64(1), object(2)\n",
      "memory usage: 3.2+ MB\n"
     ]
    }
   ],
   "source": [
    "internet.info()"
   ]
  },
  {
   "cell_type": "code",
   "execution_count": 18,
   "metadata": {},
   "outputs": [
    {
     "data": {
      "text/plain": [
       "count    104825.000000\n",
       "mean        366.713701\n",
       "std         277.170542\n",
       "min           0.000000\n",
       "25%         136.080000\n",
       "50%         343.980000\n",
       "75%         554.610000\n",
       "max        1693.470000\n",
       "Name: mb_used, dtype: float64"
      ]
     },
     "execution_count": 18,
     "metadata": {},
     "output_type": "execute_result"
    }
   ],
   "source": [
    "internet['mb_used'].describe()"
   ]
  },
  {
   "cell_type": "code",
   "execution_count": 19,
   "metadata": {},
   "outputs": [
    {
     "name": "stdout",
     "output_type": "stream",
     "text": [
      "<class 'pandas.core.frame.DataFrame'>\n",
      "RangeIndex: 76051 entries, 0 to 76050\n",
      "Data columns (total 3 columns):\n",
      "id              76051 non-null object\n",
      "user_id         76051 non-null int64\n",
      "message_date    76051 non-null object\n",
      "dtypes: int64(1), object(2)\n",
      "memory usage: 1.7+ MB\n"
     ]
    }
   ],
   "source": [
    "messages.info()"
   ]
  },
  {
   "cell_type": "code",
   "execution_count": 20,
   "metadata": {},
   "outputs": [
    {
     "name": "stdout",
     "output_type": "stream",
     "text": [
      "<class 'pandas.core.frame.DataFrame'>\n",
      "RangeIndex: 500 entries, 0 to 499\n",
      "Data columns (total 8 columns):\n",
      "user_id       500 non-null int64\n",
      "first_name    500 non-null object\n",
      "last_name     500 non-null object\n",
      "age           500 non-null int64\n",
      "city          500 non-null object\n",
      "reg_date      500 non-null object\n",
      "tariff        500 non-null object\n",
      "churn_date    34 non-null object\n",
      "dtypes: int64(2), object(6)\n",
      "memory usage: 31.4+ KB\n"
     ]
    }
   ],
   "source": [
    "users.info()"
   ]
  },
  {
   "cell_type": "code",
   "execution_count": 21,
   "metadata": {},
   "outputs": [
    {
     "data": {
      "text/plain": [
       "count    500.000000\n",
       "mean      45.486000\n",
       "std       16.972269\n",
       "min       18.000000\n",
       "25%       30.000000\n",
       "50%       46.000000\n",
       "75%       61.000000\n",
       "max       75.000000\n",
       "Name: age, dtype: float64"
      ]
     },
     "execution_count": 21,
     "metadata": {},
     "output_type": "execute_result"
    }
   ],
   "source": [
    "users['age'].describe()"
   ]
  },
  {
   "cell_type": "markdown",
   "metadata": {},
   "source": [
    "# Notes"
   ]
  },
  {
   "cell_type": "markdown",
   "metadata": {},
   "source": [
    "Here we are simply reading in the data and exploring some of the basic information about these tables. From the looks of it, we will likely need to keep them separate for some of our analysis, so we'll look at potentially merging/joining them later on. Initially though, we note \"tariffs\" simply outlines the plans. Users reveals we have 500 users in total. And, internet, calls, messages tables all refer to diferent events, which fuels my choice to keep them separate initially. For now, we'll want to clean up each of the five datasets separately."
   ]
  },
  {
   "cell_type": "markdown",
   "metadata": {},
   "source": [
    "# Step 2. Preprocessing Data"
   ]
  },
  {
   "cell_type": "code",
   "execution_count": 22,
   "metadata": {},
   "outputs": [],
   "source": [
    "internet.drop_duplicates(inplace=True)"
   ]
  },
  {
   "cell_type": "code",
   "execution_count": 23,
   "metadata": {},
   "outputs": [],
   "source": [
    "calls.drop_duplicates(inplace=True)"
   ]
  },
  {
   "cell_type": "code",
   "execution_count": 24,
   "metadata": {},
   "outputs": [],
   "source": [
    "messages.drop_duplicates(inplace=True)"
   ]
  },
  {
   "cell_type": "code",
   "execution_count": 25,
   "metadata": {},
   "outputs": [
    {
     "data": {
      "text/plain": [
       "104825"
      ]
     },
     "execution_count": 25,
     "metadata": {},
     "output_type": "execute_result"
    }
   ],
   "source": [
    "len(internet)"
   ]
  },
  {
   "cell_type": "code",
   "execution_count": 26,
   "metadata": {},
   "outputs": [
    {
     "data": {
      "text/plain": [
       "137735"
      ]
     },
     "execution_count": 26,
     "metadata": {},
     "output_type": "execute_result"
    }
   ],
   "source": [
    "len(calls)"
   ]
  },
  {
   "cell_type": "code",
   "execution_count": 27,
   "metadata": {},
   "outputs": [
    {
     "data": {
      "text/plain": [
       "76051"
      ]
     },
     "execution_count": 27,
     "metadata": {},
     "output_type": "execute_result"
    }
   ],
   "source": [
    "len(messages)"
   ]
  },
  {
   "cell_type": "code",
   "execution_count": 28,
   "metadata": {},
   "outputs": [],
   "source": [
    "users.set_index(users['user_id'],inplace=True)"
   ]
  },
  {
   "cell_type": "code",
   "execution_count": 29,
   "metadata": {},
   "outputs": [],
   "source": [
    "users.drop('user_id', axis=1, inplace=True)"
   ]
  },
  {
   "cell_type": "code",
   "execution_count": 30,
   "metadata": {},
   "outputs": [],
   "source": [
    "def group_by_month(date):\n",
    "    if date.startswith('2018-12'):\n",
    "        return 'Dec'\n",
    "    if date.startswith('2018-11'):\n",
    "        return 'Nov'\n",
    "    if date.startswith('2018-10'):\n",
    "        return 'Oct'\n",
    "    if date.startswith('2018-09'):\n",
    "        return 'Sep'\n",
    "    if date.startswith('2018-08'):\n",
    "        return 'Aug'\n",
    "    if date.startswith('2018-07'):\n",
    "        return 'Jul'\n",
    "    if date.startswith('2018-06'):\n",
    "        return 'Jun'\n",
    "    if date.startswith('2018-05'):\n",
    "        return 'May'\n",
    "    if date.startswith('2018-04'):\n",
    "        return 'Apr'\n",
    "    if date.startswith('2018-03'):\n",
    "        return 'Mar'\n",
    "    if date.startswith('2018-02'):\n",
    "        return 'Feb'\n",
    "    if date.startswith('2018-01'):\n",
    "        return 'Jan'"
   ]
  },
  {
   "cell_type": "code",
   "execution_count": 31,
   "metadata": {},
   "outputs": [],
   "source": [
    "calls['date'] = calls['call_date']"
   ]
  },
  {
   "cell_type": "code",
   "execution_count": 32,
   "metadata": {},
   "outputs": [],
   "source": [
    "calls['call_date'] = pd.to_datetime(calls['call_date'])"
   ]
  },
  {
   "cell_type": "code",
   "execution_count": 33,
   "metadata": {},
   "outputs": [],
   "source": [
    "calls.set_index(calls[\"call_date\"],inplace=True)"
   ]
  },
  {
   "cell_type": "code",
   "execution_count": 34,
   "metadata": {},
   "outputs": [],
   "source": [
    "calls.drop('call_date', axis=1, inplace=True)"
   ]
  },
  {
   "cell_type": "code",
   "execution_count": 35,
   "metadata": {},
   "outputs": [],
   "source": [
    "internet['date'] = internet['session_date']"
   ]
  },
  {
   "cell_type": "code",
   "execution_count": 36,
   "metadata": {},
   "outputs": [],
   "source": [
    "internet['session_date'] = pd.to_datetime(internet['session_date'])"
   ]
  },
  {
   "cell_type": "code",
   "execution_count": 37,
   "metadata": {},
   "outputs": [],
   "source": [
    "internet.set_index(internet[\"session_date\"],inplace=True)"
   ]
  },
  {
   "cell_type": "code",
   "execution_count": 38,
   "metadata": {},
   "outputs": [],
   "source": [
    "internet.drop('session_date', axis=1, inplace=True)"
   ]
  },
  {
   "cell_type": "code",
   "execution_count": 39,
   "metadata": {},
   "outputs": [],
   "source": [
    "messages['date'] = messages['message_date']"
   ]
  },
  {
   "cell_type": "code",
   "execution_count": 40,
   "metadata": {},
   "outputs": [],
   "source": [
    "messages['message_date'] = pd.to_datetime(messages['message_date'])"
   ]
  },
  {
   "cell_type": "code",
   "execution_count": 41,
   "metadata": {},
   "outputs": [],
   "source": [
    "messages.set_index(messages[\"message_date\"],inplace=True)"
   ]
  },
  {
   "cell_type": "code",
   "execution_count": 42,
   "metadata": {},
   "outputs": [],
   "source": [
    "messages.drop('message_date', axis=1, inplace=True)"
   ]
  },
  {
   "cell_type": "code",
   "execution_count": 43,
   "metadata": {},
   "outputs": [],
   "source": [
    "messages['month'] = messages['date'].apply(group_by_month)"
   ]
  },
  {
   "cell_type": "code",
   "execution_count": 44,
   "metadata": {},
   "outputs": [],
   "source": [
    "internet['month'] = internet['date'].apply(group_by_month)"
   ]
  },
  {
   "cell_type": "code",
   "execution_count": 45,
   "metadata": {},
   "outputs": [],
   "source": [
    "calls['month'] = calls['date'].apply(group_by_month)"
   ]
  },
  {
   "cell_type": "code",
   "execution_count": 46,
   "metadata": {},
   "outputs": [],
   "source": [
    "users['reg_date'] = pd.to_datetime(users['reg_date'])"
   ]
  },
  {
   "cell_type": "code",
   "execution_count": 47,
   "metadata": {},
   "outputs": [],
   "source": [
    "users['churn_date'] = pd.to_datetime(users['churn_date'])"
   ]
  },
  {
   "cell_type": "code",
   "execution_count": 48,
   "metadata": {},
   "outputs": [
    {
     "data": {
      "text/plain": [
       "Text(0, 0.5, 'Frequency')"
      ]
     },
     "execution_count": 48,
     "metadata": {},
     "output_type": "execute_result"
    },
    {
     "data": {
      "image/png": "[encoded data removed]",
      "text/plain": [
       "<Figure size 432x288 with 1 Axes>"
      ]
     },
     "metadata": {
      "needs_background": "light"
     },
     "output_type": "display_data"
    }
   ],
   "source": [
    "calls['duration'].hist()\n",
    "plt.xlabel('Length of Call')\n",
    "plt.ylabel('Frequency')"
   ]
  },
  {
   "cell_type": "code",
   "execution_count": 49,
   "metadata": {},
   "outputs": [],
   "source": [
    "import math "
   ]
  },
  {
   "cell_type": "code",
   "execution_count": 50,
   "metadata": {},
   "outputs": [],
   "source": [
    "calls['duration'] = calls['duration'].apply(math.ceil)"
   ]
  },
  {
   "cell_type": "code",
   "execution_count": 51,
   "metadata": {},
   "outputs": [],
   "source": [
    "internet['mb_used'] = internet['mb_used'].apply(math.ceil)"
   ]
  },
  {
   "cell_type": "code",
   "execution_count": 52,
   "metadata": {
    "scrolled": true
   },
   "outputs": [
    {
     "data": {
      "text/plain": [
       "110901"
      ]
     },
     "execution_count": 52,
     "metadata": {},
     "output_type": "execute_result"
    }
   ],
   "source": [
    "good_calls = calls[calls['duration'] > 0]\n",
    "len(good_calls)"
   ]
  },
  {
   "cell_type": "code",
   "execution_count": 53,
   "metadata": {},
   "outputs": [
    {
     "data": {
      "text/html": [
       "<div>\n",
       "<style scoped>\n",
       "    .dataframe tbody tr th:only-of-type {\n",
       "        vertical-align: middle;\n",
       "    }\n",
       "\n",
       "    .dataframe tbody tr th {\n",
       "        vertical-align: top;\n",
       "    }\n",
       "\n",
       "    .dataframe thead th {\n",
       "        text-align: right;\n",
       "    }\n",
       "</style>\n",
       "<table border=\"1\" class=\"dataframe\">\n",
       "  <thead>\n",
       "    <tr style=\"text-align: right;\">\n",
       "      <th></th>\n",
       "      <th>id</th>\n",
       "      <th>user_id</th>\n",
       "      <th>mb_used</th>\n",
       "      <th>date</th>\n",
       "      <th>month</th>\n",
       "    </tr>\n",
       "    <tr>\n",
       "      <th>session_date</th>\n",
       "      <th></th>\n",
       "      <th></th>\n",
       "      <th></th>\n",
       "      <th></th>\n",
       "      <th></th>\n",
       "    </tr>\n",
       "  </thead>\n",
       "  <tbody>\n",
       "    <tr>\n",
       "      <td>2018-12-29</td>\n",
       "      <td>1000_13</td>\n",
       "      <td>1000</td>\n",
       "      <td>90</td>\n",
       "      <td>2018-12-29</td>\n",
       "      <td>Dec</td>\n",
       "    </tr>\n",
       "    <tr>\n",
       "      <td>2018-12-31</td>\n",
       "      <td>1000_204</td>\n",
       "      <td>1000</td>\n",
       "      <td>0</td>\n",
       "      <td>2018-12-31</td>\n",
       "      <td>Dec</td>\n",
       "    </tr>\n",
       "    <tr>\n",
       "      <td>2018-12-28</td>\n",
       "      <td>1000_379</td>\n",
       "      <td>1000</td>\n",
       "      <td>661</td>\n",
       "      <td>2018-12-28</td>\n",
       "      <td>Dec</td>\n",
       "    </tr>\n",
       "    <tr>\n",
       "      <td>2018-12-26</td>\n",
       "      <td>1000_413</td>\n",
       "      <td>1000</td>\n",
       "      <td>271</td>\n",
       "      <td>2018-12-26</td>\n",
       "      <td>Dec</td>\n",
       "    </tr>\n",
       "    <tr>\n",
       "      <td>2018-12-27</td>\n",
       "      <td>1000_442</td>\n",
       "      <td>1000</td>\n",
       "      <td>881</td>\n",
       "      <td>2018-12-27</td>\n",
       "      <td>Dec</td>\n",
       "    </tr>\n",
       "  </tbody>\n",
       "</table>\n",
       "</div>"
      ],
      "text/plain": [
       "                    id  user_id  mb_used        date month\n",
       "session_date                                              \n",
       "2018-12-29     1000_13     1000       90  2018-12-29   Dec\n",
       "2018-12-31    1000_204     1000        0  2018-12-31   Dec\n",
       "2018-12-28    1000_379     1000      661  2018-12-28   Dec\n",
       "2018-12-26    1000_413     1000      271  2018-12-26   Dec\n",
       "2018-12-27    1000_442     1000      881  2018-12-27   Dec"
      ]
     },
     "execution_count": 53,
     "metadata": {},
     "output_type": "execute_result"
    }
   ],
   "source": [
    "internet.head()"
   ]
  },
  {
   "cell_type": "code",
   "execution_count": 54,
   "metadata": {},
   "outputs": [
    {
     "data": {
      "text/html": [
       "<div>\n",
       "<style scoped>\n",
       "    .dataframe tbody tr th:only-of-type {\n",
       "        vertical-align: middle;\n",
       "    }\n",
       "\n",
       "    .dataframe tbody tr th {\n",
       "        vertical-align: top;\n",
       "    }\n",
       "\n",
       "    .dataframe thead th {\n",
       "        text-align: right;\n",
       "    }\n",
       "</style>\n",
       "<table border=\"1\" class=\"dataframe\">\n",
       "  <thead>\n",
       "    <tr style=\"text-align: right;\">\n",
       "      <th></th>\n",
       "      <th>id</th>\n",
       "      <th>user_id</th>\n",
       "      <th>duration</th>\n",
       "      <th>date</th>\n",
       "      <th>month</th>\n",
       "    </tr>\n",
       "    <tr>\n",
       "      <th>call_date</th>\n",
       "      <th></th>\n",
       "      <th></th>\n",
       "      <th></th>\n",
       "      <th></th>\n",
       "      <th></th>\n",
       "    </tr>\n",
       "  </thead>\n",
       "  <tbody>\n",
       "    <tr>\n",
       "      <td>2018-12-27</td>\n",
       "      <td>1000_93</td>\n",
       "      <td>1000</td>\n",
       "      <td>9</td>\n",
       "      <td>2018-12-27</td>\n",
       "      <td>Dec</td>\n",
       "    </tr>\n",
       "    <tr>\n",
       "      <td>2018-12-27</td>\n",
       "      <td>1000_145</td>\n",
       "      <td>1000</td>\n",
       "      <td>14</td>\n",
       "      <td>2018-12-27</td>\n",
       "      <td>Dec</td>\n",
       "    </tr>\n",
       "    <tr>\n",
       "      <td>2018-12-27</td>\n",
       "      <td>1000_247</td>\n",
       "      <td>1000</td>\n",
       "      <td>15</td>\n",
       "      <td>2018-12-27</td>\n",
       "      <td>Dec</td>\n",
       "    </tr>\n",
       "    <tr>\n",
       "      <td>2018-12-28</td>\n",
       "      <td>1000_309</td>\n",
       "      <td>1000</td>\n",
       "      <td>6</td>\n",
       "      <td>2018-12-28</td>\n",
       "      <td>Dec</td>\n",
       "    </tr>\n",
       "    <tr>\n",
       "      <td>2018-12-30</td>\n",
       "      <td>1000_380</td>\n",
       "      <td>1000</td>\n",
       "      <td>5</td>\n",
       "      <td>2018-12-30</td>\n",
       "      <td>Dec</td>\n",
       "    </tr>\n",
       "  </tbody>\n",
       "</table>\n",
       "</div>"
      ],
      "text/plain": [
       "                  id  user_id  duration        date month\n",
       "call_date                                                \n",
       "2018-12-27   1000_93     1000         9  2018-12-27   Dec\n",
       "2018-12-27  1000_145     1000        14  2018-12-27   Dec\n",
       "2018-12-27  1000_247     1000        15  2018-12-27   Dec\n",
       "2018-12-28  1000_309     1000         6  2018-12-28   Dec\n",
       "2018-12-30  1000_380     1000         5  2018-12-30   Dec"
      ]
     },
     "execution_count": 54,
     "metadata": {},
     "output_type": "execute_result"
    }
   ],
   "source": [
    "good_calls.head()"
   ]
  },
  {
   "cell_type": "code",
   "execution_count": 55,
   "metadata": {},
   "outputs": [],
   "source": [
    "message_data = pd.pivot_table(messages, index=['user_id', 'month'], values='date', aggfunc='count')\n",
    "message_data.columns = ['total_messages']"
   ]
  },
  {
   "cell_type": "code",
   "execution_count": 56,
   "metadata": {},
   "outputs": [
    {
     "data": {
      "text/html": [
       "<div>\n",
       "<style scoped>\n",
       "    .dataframe tbody tr th:only-of-type {\n",
       "        vertical-align: middle;\n",
       "    }\n",
       "\n",
       "    .dataframe tbody tr th {\n",
       "        vertical-align: top;\n",
       "    }\n",
       "\n",
       "    .dataframe thead th {\n",
       "        text-align: right;\n",
       "    }\n",
       "</style>\n",
       "<table border=\"1\" class=\"dataframe\">\n",
       "  <thead>\n",
       "    <tr style=\"text-align: right;\">\n",
       "      <th></th>\n",
       "      <th></th>\n",
       "      <th>total_messages</th>\n",
       "    </tr>\n",
       "    <tr>\n",
       "      <th>user_id</th>\n",
       "      <th>month</th>\n",
       "      <th></th>\n",
       "    </tr>\n",
       "  </thead>\n",
       "  <tbody>\n",
       "    <tr>\n",
       "      <td>1000</td>\n",
       "      <td>Dec</td>\n",
       "      <td>11</td>\n",
       "    </tr>\n",
       "    <tr>\n",
       "      <td rowspan=\"4\" valign=\"top\">1001</td>\n",
       "      <td>Aug</td>\n",
       "      <td>30</td>\n",
       "    </tr>\n",
       "    <tr>\n",
       "      <td>Dec</td>\n",
       "      <td>44</td>\n",
       "    </tr>\n",
       "    <tr>\n",
       "      <td>Nov</td>\n",
       "      <td>36</td>\n",
       "    </tr>\n",
       "    <tr>\n",
       "      <td>Oct</td>\n",
       "      <td>53</td>\n",
       "    </tr>\n",
       "  </tbody>\n",
       "</table>\n",
       "</div>"
      ],
      "text/plain": [
       "               total_messages\n",
       "user_id month                \n",
       "1000    Dec                11\n",
       "1001    Aug                30\n",
       "        Dec                44\n",
       "        Nov                36\n",
       "        Oct                53"
      ]
     },
     "execution_count": 56,
     "metadata": {},
     "output_type": "execute_result"
    }
   ],
   "source": [
    "message_data.head()"
   ]
  },
  {
   "cell_type": "code",
   "execution_count": 57,
   "metadata": {},
   "outputs": [],
   "source": [
    "call_data = pd.pivot_table(good_calls, index=['user_id', 'month'], values='duration', \n",
    "               aggfunc='sum')\n",
    "call_data.columns = ['total_call_time']"
   ]
  },
  {
   "cell_type": "code",
   "execution_count": 58,
   "metadata": {},
   "outputs": [],
   "source": [
    "call_data = call_data.reset_index('month')"
   ]
  },
  {
   "cell_type": "code",
   "execution_count": 59,
   "metadata": {
    "scrolled": true
   },
   "outputs": [
    {
     "data": {
      "text/html": [
       "<div>\n",
       "<style scoped>\n",
       "    .dataframe tbody tr th:only-of-type {\n",
       "        vertical-align: middle;\n",
       "    }\n",
       "\n",
       "    .dataframe tbody tr th {\n",
       "        vertical-align: top;\n",
       "    }\n",
       "\n",
       "    .dataframe thead th {\n",
       "        text-align: right;\n",
       "    }\n",
       "</style>\n",
       "<table border=\"1\" class=\"dataframe\">\n",
       "  <thead>\n",
       "    <tr style=\"text-align: right;\">\n",
       "      <th></th>\n",
       "      <th>month</th>\n",
       "      <th>total_call_time</th>\n",
       "    </tr>\n",
       "    <tr>\n",
       "      <th>user_id</th>\n",
       "      <th></th>\n",
       "      <th></th>\n",
       "    </tr>\n",
       "  </thead>\n",
       "  <tbody>\n",
       "    <tr>\n",
       "      <td>1000</td>\n",
       "      <td>Dec</td>\n",
       "      <td>124</td>\n",
       "    </tr>\n",
       "    <tr>\n",
       "      <td>1001</td>\n",
       "      <td>Aug</td>\n",
       "      <td>182</td>\n",
       "    </tr>\n",
       "    <tr>\n",
       "      <td>1001</td>\n",
       "      <td>Dec</td>\n",
       "      <td>412</td>\n",
       "    </tr>\n",
       "    <tr>\n",
       "      <td>1001</td>\n",
       "      <td>Nov</td>\n",
       "      <td>426</td>\n",
       "    </tr>\n",
       "    <tr>\n",
       "      <td>1001</td>\n",
       "      <td>Oct</td>\n",
       "      <td>393</td>\n",
       "    </tr>\n",
       "  </tbody>\n",
       "</table>\n",
       "</div>"
      ],
      "text/plain": [
       "        month  total_call_time\n",
       "user_id                       \n",
       "1000      Dec              124\n",
       "1001      Aug              182\n",
       "1001      Dec              412\n",
       "1001      Nov              426\n",
       "1001      Oct              393"
      ]
     },
     "execution_count": 59,
     "metadata": {},
     "output_type": "execute_result"
    }
   ],
   "source": [
    "call_data.head()"
   ]
  },
  {
   "cell_type": "code",
   "execution_count": 60,
   "metadata": {},
   "outputs": [],
   "source": [
    "internet_data = pd.pivot_table(internet, index=['user_id', 'month'], values='mb_used',\n",
    "                              aggfunc=['mean', 'median', 'sum'])\n",
    "internet_data.columns = ['mean_mb_used', 'median_mb_used', 'total_mb_used']"
   ]
  },
  {
   "cell_type": "code",
   "execution_count": 61,
   "metadata": {
    "scrolled": true
   },
   "outputs": [
    {
     "data": {
      "text/html": [
       "<div>\n",
       "<style scoped>\n",
       "    .dataframe tbody tr th:only-of-type {\n",
       "        vertical-align: middle;\n",
       "    }\n",
       "\n",
       "    .dataframe tbody tr th {\n",
       "        vertical-align: top;\n",
       "    }\n",
       "\n",
       "    .dataframe thead th {\n",
       "        text-align: right;\n",
       "    }\n",
       "</style>\n",
       "<table border=\"1\" class=\"dataframe\">\n",
       "  <thead>\n",
       "    <tr style=\"text-align: right;\">\n",
       "      <th></th>\n",
       "      <th></th>\n",
       "      <th>mean_mb_used</th>\n",
       "      <th>median_mb_used</th>\n",
       "      <th>total_mb_used</th>\n",
       "    </tr>\n",
       "    <tr>\n",
       "      <th>user_id</th>\n",
       "      <th>month</th>\n",
       "      <th></th>\n",
       "      <th></th>\n",
       "      <th></th>\n",
       "    </tr>\n",
       "  </thead>\n",
       "  <tbody>\n",
       "    <tr>\n",
       "      <td>1000</td>\n",
       "      <td>Dec</td>\n",
       "      <td>380.600000</td>\n",
       "      <td>271.0</td>\n",
       "      <td>1903</td>\n",
       "    </tr>\n",
       "    <tr>\n",
       "      <td rowspan=\"4\" valign=\"top\">1001</td>\n",
       "      <td>Aug</td>\n",
       "      <td>277.160000</td>\n",
       "      <td>211.0</td>\n",
       "      <td>6929</td>\n",
       "    </tr>\n",
       "    <tr>\n",
       "      <td>Dec</td>\n",
       "      <td>323.300000</td>\n",
       "      <td>275.5</td>\n",
       "      <td>19398</td>\n",
       "    </tr>\n",
       "    <tr>\n",
       "      <td>Nov</td>\n",
       "      <td>363.215686</td>\n",
       "      <td>403.0</td>\n",
       "      <td>18524</td>\n",
       "    </tr>\n",
       "    <tr>\n",
       "      <td>Oct</td>\n",
       "      <td>399.214286</td>\n",
       "      <td>445.0</td>\n",
       "      <td>22356</td>\n",
       "    </tr>\n",
       "  </tbody>\n",
       "</table>\n",
       "</div>"
      ],
      "text/plain": [
       "               mean_mb_used  median_mb_used  total_mb_used\n",
       "user_id month                                             \n",
       "1000    Dec      380.600000           271.0           1903\n",
       "1001    Aug      277.160000           211.0           6929\n",
       "        Dec      323.300000           275.5          19398\n",
       "        Nov      363.215686           403.0          18524\n",
       "        Oct      399.214286           445.0          22356"
      ]
     },
     "execution_count": 61,
     "metadata": {},
     "output_type": "execute_result"
    }
   ],
   "source": [
    "internet_data.head()"
   ]
  },
  {
   "cell_type": "markdown",
   "metadata": {},
   "source": [
    "# Notes"
   ]
  },
  {
   "cell_type": "markdown",
   "metadata": {},
   "source": [
    "In this section, I first wanted to make sure there were no duplicate data points. From there, knowing there are no nulls in the data, I went ahead and adjusted date columns to follow the more managable datetime data type. Next, I eliminated call times that were 0, since these likely represent mistakes in the data. \n",
    "\n",
    "From here, I created a pivot table for each category: calls, messages, internet. I left in some extra columns here just in case we want to explore further trends. Most importantly, I took the total mb_used from internet, the total messages sent from messages, and the total call time from calls. \n",
    "\n",
    "With these three pivot tables, I can continue to combine them and calculate profits for each user. "
   ]
  },
  {
   "cell_type": "markdown",
   "metadata": {},
   "source": [
    "# Step 2.1 - Calculating Profit"
   ]
  },
  {
   "cell_type": "code",
   "execution_count": 62,
   "metadata": {},
   "outputs": [],
   "source": [
    "temp = users.join(call_data, on='user_id')"
   ]
  },
  {
   "cell_type": "code",
   "execution_count": 63,
   "metadata": {},
   "outputs": [],
   "source": [
    "temp.reset_index('user_id', inplace=True)"
   ]
  },
  {
   "cell_type": "code",
   "execution_count": 64,
   "metadata": {},
   "outputs": [],
   "source": [
    "temp.set_index(['month', 'user_id'], inplace=True)"
   ]
  },
  {
   "cell_type": "code",
   "execution_count": 65,
   "metadata": {},
   "outputs": [
    {
     "data": {
      "text/html": [
       "<div>\n",
       "<style scoped>\n",
       "    .dataframe tbody tr th:only-of-type {\n",
       "        vertical-align: middle;\n",
       "    }\n",
       "\n",
       "    .dataframe tbody tr th {\n",
       "        vertical-align: top;\n",
       "    }\n",
       "\n",
       "    .dataframe thead th {\n",
       "        text-align: right;\n",
       "    }\n",
       "</style>\n",
       "<table border=\"1\" class=\"dataframe\">\n",
       "  <thead>\n",
       "    <tr style=\"text-align: right;\">\n",
       "      <th></th>\n",
       "      <th></th>\n",
       "      <th>first_name</th>\n",
       "      <th>last_name</th>\n",
       "      <th>age</th>\n",
       "      <th>city</th>\n",
       "      <th>reg_date</th>\n",
       "      <th>tariff</th>\n",
       "      <th>churn_date</th>\n",
       "      <th>total_call_time</th>\n",
       "    </tr>\n",
       "    <tr>\n",
       "      <th>month</th>\n",
       "      <th>user_id</th>\n",
       "      <th></th>\n",
       "      <th></th>\n",
       "      <th></th>\n",
       "      <th></th>\n",
       "      <th></th>\n",
       "      <th></th>\n",
       "      <th></th>\n",
       "      <th></th>\n",
       "    </tr>\n",
       "  </thead>\n",
       "  <tbody>\n",
       "    <tr>\n",
       "      <td>Dec</td>\n",
       "      <td>1000</td>\n",
       "      <td>Anamaria</td>\n",
       "      <td>Bauer</td>\n",
       "      <td>45</td>\n",
       "      <td>Atlanta-Sandy Springs-Roswell, GA MSA</td>\n",
       "      <td>2018-12-24</td>\n",
       "      <td>ultimate</td>\n",
       "      <td>NaT</td>\n",
       "      <td>124.0</td>\n",
       "    </tr>\n",
       "    <tr>\n",
       "      <td>Aug</td>\n",
       "      <td>1001</td>\n",
       "      <td>Mickey</td>\n",
       "      <td>Wilkerson</td>\n",
       "      <td>28</td>\n",
       "      <td>Seattle-Tacoma-Bellevue, WA MSA</td>\n",
       "      <td>2018-08-13</td>\n",
       "      <td>surf</td>\n",
       "      <td>NaT</td>\n",
       "      <td>182.0</td>\n",
       "    </tr>\n",
       "    <tr>\n",
       "      <td>Dec</td>\n",
       "      <td>1001</td>\n",
       "      <td>Mickey</td>\n",
       "      <td>Wilkerson</td>\n",
       "      <td>28</td>\n",
       "      <td>Seattle-Tacoma-Bellevue, WA MSA</td>\n",
       "      <td>2018-08-13</td>\n",
       "      <td>surf</td>\n",
       "      <td>NaT</td>\n",
       "      <td>412.0</td>\n",
       "    </tr>\n",
       "    <tr>\n",
       "      <td>Nov</td>\n",
       "      <td>1001</td>\n",
       "      <td>Mickey</td>\n",
       "      <td>Wilkerson</td>\n",
       "      <td>28</td>\n",
       "      <td>Seattle-Tacoma-Bellevue, WA MSA</td>\n",
       "      <td>2018-08-13</td>\n",
       "      <td>surf</td>\n",
       "      <td>NaT</td>\n",
       "      <td>426.0</td>\n",
       "    </tr>\n",
       "    <tr>\n",
       "      <td>Oct</td>\n",
       "      <td>1001</td>\n",
       "      <td>Mickey</td>\n",
       "      <td>Wilkerson</td>\n",
       "      <td>28</td>\n",
       "      <td>Seattle-Tacoma-Bellevue, WA MSA</td>\n",
       "      <td>2018-08-13</td>\n",
       "      <td>surf</td>\n",
       "      <td>NaT</td>\n",
       "      <td>393.0</td>\n",
       "    </tr>\n",
       "  </tbody>\n",
       "</table>\n",
       "</div>"
      ],
      "text/plain": [
       "              first_name  last_name  age  \\\n",
       "month user_id                              \n",
       "Dec   1000      Anamaria      Bauer   45   \n",
       "Aug   1001        Mickey  Wilkerson   28   \n",
       "Dec   1001        Mickey  Wilkerson   28   \n",
       "Nov   1001        Mickey  Wilkerson   28   \n",
       "Oct   1001        Mickey  Wilkerson   28   \n",
       "\n",
       "                                                city   reg_date    tariff  \\\n",
       "month user_id                                                               \n",
       "Dec   1000     Atlanta-Sandy Springs-Roswell, GA MSA 2018-12-24  ultimate   \n",
       "Aug   1001           Seattle-Tacoma-Bellevue, WA MSA 2018-08-13      surf   \n",
       "Dec   1001           Seattle-Tacoma-Bellevue, WA MSA 2018-08-13      surf   \n",
       "Nov   1001           Seattle-Tacoma-Bellevue, WA MSA 2018-08-13      surf   \n",
       "Oct   1001           Seattle-Tacoma-Bellevue, WA MSA 2018-08-13      surf   \n",
       "\n",
       "              churn_date  total_call_time  \n",
       "month user_id                              \n",
       "Dec   1000           NaT            124.0  \n",
       "Aug   1001           NaT            182.0  \n",
       "Dec   1001           NaT            412.0  \n",
       "Nov   1001           NaT            426.0  \n",
       "Oct   1001           NaT            393.0  "
      ]
     },
     "execution_count": 65,
     "metadata": {},
     "output_type": "execute_result"
    }
   ],
   "source": [
    "temp.head()"
   ]
  },
  {
   "cell_type": "code",
   "execution_count": 66,
   "metadata": {},
   "outputs": [],
   "source": [
    "temp2 = temp.join(internet_data, on=['user_id', 'month'])"
   ]
  },
  {
   "cell_type": "code",
   "execution_count": 67,
   "metadata": {},
   "outputs": [
    {
     "data": {
      "text/html": [
       "<div>\n",
       "<style scoped>\n",
       "    .dataframe tbody tr th:only-of-type {\n",
       "        vertical-align: middle;\n",
       "    }\n",
       "\n",
       "    .dataframe tbody tr th {\n",
       "        vertical-align: top;\n",
       "    }\n",
       "\n",
       "    .dataframe thead th {\n",
       "        text-align: right;\n",
       "    }\n",
       "</style>\n",
       "<table border=\"1\" class=\"dataframe\">\n",
       "  <thead>\n",
       "    <tr style=\"text-align: right;\">\n",
       "      <th></th>\n",
       "      <th></th>\n",
       "      <th>first_name</th>\n",
       "      <th>last_name</th>\n",
       "      <th>age</th>\n",
       "      <th>city</th>\n",
       "      <th>reg_date</th>\n",
       "      <th>tariff</th>\n",
       "      <th>churn_date</th>\n",
       "      <th>total_call_time</th>\n",
       "      <th>mean_mb_used</th>\n",
       "      <th>median_mb_used</th>\n",
       "      <th>total_mb_used</th>\n",
       "    </tr>\n",
       "    <tr>\n",
       "      <th>month</th>\n",
       "      <th>user_id</th>\n",
       "      <th></th>\n",
       "      <th></th>\n",
       "      <th></th>\n",
       "      <th></th>\n",
       "      <th></th>\n",
       "      <th></th>\n",
       "      <th></th>\n",
       "      <th></th>\n",
       "      <th></th>\n",
       "      <th></th>\n",
       "      <th></th>\n",
       "    </tr>\n",
       "  </thead>\n",
       "  <tbody>\n",
       "    <tr>\n",
       "      <td>Dec</td>\n",
       "      <td>1000</td>\n",
       "      <td>Anamaria</td>\n",
       "      <td>Bauer</td>\n",
       "      <td>45</td>\n",
       "      <td>Atlanta-Sandy Springs-Roswell, GA MSA</td>\n",
       "      <td>2018-12-24</td>\n",
       "      <td>ultimate</td>\n",
       "      <td>NaT</td>\n",
       "      <td>124.0</td>\n",
       "      <td>380.600000</td>\n",
       "      <td>271.0</td>\n",
       "      <td>1903.0</td>\n",
       "    </tr>\n",
       "    <tr>\n",
       "      <td>Aug</td>\n",
       "      <td>1001</td>\n",
       "      <td>Mickey</td>\n",
       "      <td>Wilkerson</td>\n",
       "      <td>28</td>\n",
       "      <td>Seattle-Tacoma-Bellevue, WA MSA</td>\n",
       "      <td>2018-08-13</td>\n",
       "      <td>surf</td>\n",
       "      <td>NaT</td>\n",
       "      <td>182.0</td>\n",
       "      <td>277.160000</td>\n",
       "      <td>211.0</td>\n",
       "      <td>6929.0</td>\n",
       "    </tr>\n",
       "    <tr>\n",
       "      <td>Dec</td>\n",
       "      <td>1001</td>\n",
       "      <td>Mickey</td>\n",
       "      <td>Wilkerson</td>\n",
       "      <td>28</td>\n",
       "      <td>Seattle-Tacoma-Bellevue, WA MSA</td>\n",
       "      <td>2018-08-13</td>\n",
       "      <td>surf</td>\n",
       "      <td>NaT</td>\n",
       "      <td>412.0</td>\n",
       "      <td>323.300000</td>\n",
       "      <td>275.5</td>\n",
       "      <td>19398.0</td>\n",
       "    </tr>\n",
       "    <tr>\n",
       "      <td>Nov</td>\n",
       "      <td>1001</td>\n",
       "      <td>Mickey</td>\n",
       "      <td>Wilkerson</td>\n",
       "      <td>28</td>\n",
       "      <td>Seattle-Tacoma-Bellevue, WA MSA</td>\n",
       "      <td>2018-08-13</td>\n",
       "      <td>surf</td>\n",
       "      <td>NaT</td>\n",
       "      <td>426.0</td>\n",
       "      <td>363.215686</td>\n",
       "      <td>403.0</td>\n",
       "      <td>18524.0</td>\n",
       "    </tr>\n",
       "    <tr>\n",
       "      <td>Oct</td>\n",
       "      <td>1001</td>\n",
       "      <td>Mickey</td>\n",
       "      <td>Wilkerson</td>\n",
       "      <td>28</td>\n",
       "      <td>Seattle-Tacoma-Bellevue, WA MSA</td>\n",
       "      <td>2018-08-13</td>\n",
       "      <td>surf</td>\n",
       "      <td>NaT</td>\n",
       "      <td>393.0</td>\n",
       "      <td>399.214286</td>\n",
       "      <td>445.0</td>\n",
       "      <td>22356.0</td>\n",
       "    </tr>\n",
       "  </tbody>\n",
       "</table>\n",
       "</div>"
      ],
      "text/plain": [
       "              first_name  last_name  age  \\\n",
       "month user_id                              \n",
       "Dec   1000      Anamaria      Bauer   45   \n",
       "Aug   1001        Mickey  Wilkerson   28   \n",
       "Dec   1001        Mickey  Wilkerson   28   \n",
       "Nov   1001        Mickey  Wilkerson   28   \n",
       "Oct   1001        Mickey  Wilkerson   28   \n",
       "\n",
       "                                                city   reg_date    tariff  \\\n",
       "month user_id                                                               \n",
       "Dec   1000     Atlanta-Sandy Springs-Roswell, GA MSA 2018-12-24  ultimate   \n",
       "Aug   1001           Seattle-Tacoma-Bellevue, WA MSA 2018-08-13      surf   \n",
       "Dec   1001           Seattle-Tacoma-Bellevue, WA MSA 2018-08-13      surf   \n",
       "Nov   1001           Seattle-Tacoma-Bellevue, WA MSA 2018-08-13      surf   \n",
       "Oct   1001           Seattle-Tacoma-Bellevue, WA MSA 2018-08-13      surf   \n",
       "\n",
       "              churn_date  total_call_time  mean_mb_used  median_mb_used  \\\n",
       "month user_id                                                             \n",
       "Dec   1000           NaT            124.0    380.600000           271.0   \n",
       "Aug   1001           NaT            182.0    277.160000           211.0   \n",
       "Dec   1001           NaT            412.0    323.300000           275.5   \n",
       "Nov   1001           NaT            426.0    363.215686           403.0   \n",
       "Oct   1001           NaT            393.0    399.214286           445.0   \n",
       "\n",
       "               total_mb_used  \n",
       "month user_id                 \n",
       "Dec   1000            1903.0  \n",
       "Aug   1001            6929.0  \n",
       "Dec   1001           19398.0  \n",
       "Nov   1001           18524.0  \n",
       "Oct   1001           22356.0  "
      ]
     },
     "execution_count": 67,
     "metadata": {},
     "output_type": "execute_result"
    }
   ],
   "source": [
    "temp2.head()"
   ]
  },
  {
   "cell_type": "code",
   "execution_count": 68,
   "metadata": {},
   "outputs": [],
   "source": [
    "df = temp2.join(message_data, on=['user_id', 'month'])"
   ]
  },
  {
   "cell_type": "code",
   "execution_count": 69,
   "metadata": {},
   "outputs": [
    {
     "data": {
      "text/html": [
       "<div>\n",
       "<style scoped>\n",
       "    .dataframe tbody tr th:only-of-type {\n",
       "        vertical-align: middle;\n",
       "    }\n",
       "\n",
       "    .dataframe tbody tr th {\n",
       "        vertical-align: top;\n",
       "    }\n",
       "\n",
       "    .dataframe thead th {\n",
       "        text-align: right;\n",
       "    }\n",
       "</style>\n",
       "<table border=\"1\" class=\"dataframe\">\n",
       "  <thead>\n",
       "    <tr style=\"text-align: right;\">\n",
       "      <th></th>\n",
       "      <th></th>\n",
       "      <th>first_name</th>\n",
       "      <th>last_name</th>\n",
       "      <th>age</th>\n",
       "      <th>city</th>\n",
       "      <th>reg_date</th>\n",
       "      <th>tariff</th>\n",
       "      <th>churn_date</th>\n",
       "      <th>total_call_time</th>\n",
       "      <th>mean_mb_used</th>\n",
       "      <th>median_mb_used</th>\n",
       "      <th>total_mb_used</th>\n",
       "      <th>total_messages</th>\n",
       "    </tr>\n",
       "    <tr>\n",
       "      <th>month</th>\n",
       "      <th>user_id</th>\n",
       "      <th></th>\n",
       "      <th></th>\n",
       "      <th></th>\n",
       "      <th></th>\n",
       "      <th></th>\n",
       "      <th></th>\n",
       "      <th></th>\n",
       "      <th></th>\n",
       "      <th></th>\n",
       "      <th></th>\n",
       "      <th></th>\n",
       "      <th></th>\n",
       "    </tr>\n",
       "  </thead>\n",
       "  <tbody>\n",
       "    <tr>\n",
       "      <td>Dec</td>\n",
       "      <td>1000</td>\n",
       "      <td>Anamaria</td>\n",
       "      <td>Bauer</td>\n",
       "      <td>45</td>\n",
       "      <td>Atlanta-Sandy Springs-Roswell, GA MSA</td>\n",
       "      <td>2018-12-24</td>\n",
       "      <td>ultimate</td>\n",
       "      <td>NaT</td>\n",
       "      <td>124.0</td>\n",
       "      <td>380.600000</td>\n",
       "      <td>271.0</td>\n",
       "      <td>1903.0</td>\n",
       "      <td>11.0</td>\n",
       "    </tr>\n",
       "    <tr>\n",
       "      <td>Aug</td>\n",
       "      <td>1001</td>\n",
       "      <td>Mickey</td>\n",
       "      <td>Wilkerson</td>\n",
       "      <td>28</td>\n",
       "      <td>Seattle-Tacoma-Bellevue, WA MSA</td>\n",
       "      <td>2018-08-13</td>\n",
       "      <td>surf</td>\n",
       "      <td>NaT</td>\n",
       "      <td>182.0</td>\n",
       "      <td>277.160000</td>\n",
       "      <td>211.0</td>\n",
       "      <td>6929.0</td>\n",
       "      <td>30.0</td>\n",
       "    </tr>\n",
       "    <tr>\n",
       "      <td>Dec</td>\n",
       "      <td>1001</td>\n",
       "      <td>Mickey</td>\n",
       "      <td>Wilkerson</td>\n",
       "      <td>28</td>\n",
       "      <td>Seattle-Tacoma-Bellevue, WA MSA</td>\n",
       "      <td>2018-08-13</td>\n",
       "      <td>surf</td>\n",
       "      <td>NaT</td>\n",
       "      <td>412.0</td>\n",
       "      <td>323.300000</td>\n",
       "      <td>275.5</td>\n",
       "      <td>19398.0</td>\n",
       "      <td>44.0</td>\n",
       "    </tr>\n",
       "    <tr>\n",
       "      <td>Nov</td>\n",
       "      <td>1001</td>\n",
       "      <td>Mickey</td>\n",
       "      <td>Wilkerson</td>\n",
       "      <td>28</td>\n",
       "      <td>Seattle-Tacoma-Bellevue, WA MSA</td>\n",
       "      <td>2018-08-13</td>\n",
       "      <td>surf</td>\n",
       "      <td>NaT</td>\n",
       "      <td>426.0</td>\n",
       "      <td>363.215686</td>\n",
       "      <td>403.0</td>\n",
       "      <td>18524.0</td>\n",
       "      <td>36.0</td>\n",
       "    </tr>\n",
       "    <tr>\n",
       "      <td>Oct</td>\n",
       "      <td>1001</td>\n",
       "      <td>Mickey</td>\n",
       "      <td>Wilkerson</td>\n",
       "      <td>28</td>\n",
       "      <td>Seattle-Tacoma-Bellevue, WA MSA</td>\n",
       "      <td>2018-08-13</td>\n",
       "      <td>surf</td>\n",
       "      <td>NaT</td>\n",
       "      <td>393.0</td>\n",
       "      <td>399.214286</td>\n",
       "      <td>445.0</td>\n",
       "      <td>22356.0</td>\n",
       "      <td>53.0</td>\n",
       "    </tr>\n",
       "  </tbody>\n",
       "</table>\n",
       "</div>"
      ],
      "text/plain": [
       "              first_name  last_name  age  \\\n",
       "month user_id                              \n",
       "Dec   1000      Anamaria      Bauer   45   \n",
       "Aug   1001        Mickey  Wilkerson   28   \n",
       "Dec   1001        Mickey  Wilkerson   28   \n",
       "Nov   1001        Mickey  Wilkerson   28   \n",
       "Oct   1001        Mickey  Wilkerson   28   \n",
       "\n",
       "                                                city   reg_date    tariff  \\\n",
       "month user_id                                                               \n",
       "Dec   1000     Atlanta-Sandy Springs-Roswell, GA MSA 2018-12-24  ultimate   \n",
       "Aug   1001           Seattle-Tacoma-Bellevue, WA MSA 2018-08-13      surf   \n",
       "Dec   1001           Seattle-Tacoma-Bellevue, WA MSA 2018-08-13      surf   \n",
       "Nov   1001           Seattle-Tacoma-Bellevue, WA MSA 2018-08-13      surf   \n",
       "Oct   1001           Seattle-Tacoma-Bellevue, WA MSA 2018-08-13      surf   \n",
       "\n",
       "              churn_date  total_call_time  mean_mb_used  median_mb_used  \\\n",
       "month user_id                                                             \n",
       "Dec   1000           NaT            124.0    380.600000           271.0   \n",
       "Aug   1001           NaT            182.0    277.160000           211.0   \n",
       "Dec   1001           NaT            412.0    323.300000           275.5   \n",
       "Nov   1001           NaT            426.0    363.215686           403.0   \n",
       "Oct   1001           NaT            393.0    399.214286           445.0   \n",
       "\n",
       "               total_mb_used  total_messages  \n",
       "month user_id                                 \n",
       "Dec   1000            1903.0            11.0  \n",
       "Aug   1001            6929.0            30.0  \n",
       "Dec   1001           19398.0            44.0  \n",
       "Nov   1001           18524.0            36.0  \n",
       "Oct   1001           22356.0            53.0  "
      ]
     },
     "execution_count": 69,
     "metadata": {},
     "output_type": "execute_result"
    }
   ],
   "source": [
    "df.head()"
   ]
  },
  {
   "cell_type": "code",
   "execution_count": 70,
   "metadata": {},
   "outputs": [],
   "source": [
    "calc = df.drop(['first_name', 'last_name', 'age', 'city', 'reg_date', 'churn_date', 'mean_mb_used', \n",
    "                'median_mb_used'], axis=1)"
   ]
  },
  {
   "cell_type": "code",
   "execution_count": 71,
   "metadata": {
    "scrolled": true
   },
   "outputs": [
    {
     "data": {
      "text/html": [
       "<div>\n",
       "<style scoped>\n",
       "    .dataframe tbody tr th:only-of-type {\n",
       "        vertical-align: middle;\n",
       "    }\n",
       "\n",
       "    .dataframe tbody tr th {\n",
       "        vertical-align: top;\n",
       "    }\n",
       "\n",
       "    .dataframe thead th {\n",
       "        text-align: right;\n",
       "    }\n",
       "</style>\n",
       "<table border=\"1\" class=\"dataframe\">\n",
       "  <thead>\n",
       "    <tr style=\"text-align: right;\">\n",
       "      <th></th>\n",
       "      <th></th>\n",
       "      <th>tariff</th>\n",
       "      <th>total_call_time</th>\n",
       "      <th>total_mb_used</th>\n",
       "      <th>total_messages</th>\n",
       "    </tr>\n",
       "    <tr>\n",
       "      <th>month</th>\n",
       "      <th>user_id</th>\n",
       "      <th></th>\n",
       "      <th></th>\n",
       "      <th></th>\n",
       "      <th></th>\n",
       "    </tr>\n",
       "  </thead>\n",
       "  <tbody>\n",
       "    <tr>\n",
       "      <td>Dec</td>\n",
       "      <td>1000</td>\n",
       "      <td>ultimate</td>\n",
       "      <td>124.0</td>\n",
       "      <td>1903.0</td>\n",
       "      <td>11.0</td>\n",
       "    </tr>\n",
       "    <tr>\n",
       "      <td>Aug</td>\n",
       "      <td>1001</td>\n",
       "      <td>surf</td>\n",
       "      <td>182.0</td>\n",
       "      <td>6929.0</td>\n",
       "      <td>30.0</td>\n",
       "    </tr>\n",
       "    <tr>\n",
       "      <td>Dec</td>\n",
       "      <td>1001</td>\n",
       "      <td>surf</td>\n",
       "      <td>412.0</td>\n",
       "      <td>19398.0</td>\n",
       "      <td>44.0</td>\n",
       "    </tr>\n",
       "    <tr>\n",
       "      <td>Nov</td>\n",
       "      <td>1001</td>\n",
       "      <td>surf</td>\n",
       "      <td>426.0</td>\n",
       "      <td>18524.0</td>\n",
       "      <td>36.0</td>\n",
       "    </tr>\n",
       "    <tr>\n",
       "      <td>Oct</td>\n",
       "      <td>1001</td>\n",
       "      <td>surf</td>\n",
       "      <td>393.0</td>\n",
       "      <td>22356.0</td>\n",
       "      <td>53.0</td>\n",
       "    </tr>\n",
       "  </tbody>\n",
       "</table>\n",
       "</div>"
      ],
      "text/plain": [
       "                 tariff  total_call_time  total_mb_used  total_messages\n",
       "month user_id                                                          \n",
       "Dec   1000     ultimate            124.0         1903.0            11.0\n",
       "Aug   1001         surf            182.0         6929.0            30.0\n",
       "Dec   1001         surf            412.0        19398.0            44.0\n",
       "Nov   1001         surf            426.0        18524.0            36.0\n",
       "Oct   1001         surf            393.0        22356.0            53.0"
      ]
     },
     "execution_count": 71,
     "metadata": {},
     "output_type": "execute_result"
    }
   ],
   "source": [
    "calc.head()"
   ]
  },
  {
   "cell_type": "code",
   "execution_count": 72,
   "metadata": {},
   "outputs": [],
   "source": [
    "def calc_plan_cost(row):\n",
    "    if row == 'ultimate':\n",
    "        return 70\n",
    "    if row == 'surf': \n",
    "        return 20"
   ]
  },
  {
   "cell_type": "code",
   "execution_count": 73,
   "metadata": {},
   "outputs": [],
   "source": [
    "calc['base_cost'] = calc['tariff'].apply(calc_plan_cost)"
   ]
  },
  {
   "cell_type": "code",
   "execution_count": 74,
   "metadata": {
    "scrolled": false
   },
   "outputs": [
    {
     "data": {
      "text/html": [
       "<div>\n",
       "<style scoped>\n",
       "    .dataframe tbody tr th:only-of-type {\n",
       "        vertical-align: middle;\n",
       "    }\n",
       "\n",
       "    .dataframe tbody tr th {\n",
       "        vertical-align: top;\n",
       "    }\n",
       "\n",
       "    .dataframe thead th {\n",
       "        text-align: right;\n",
       "    }\n",
       "</style>\n",
       "<table border=\"1\" class=\"dataframe\">\n",
       "  <thead>\n",
       "    <tr style=\"text-align: right;\">\n",
       "      <th></th>\n",
       "      <th></th>\n",
       "      <th>tariff</th>\n",
       "      <th>total_call_time</th>\n",
       "      <th>total_mb_used</th>\n",
       "      <th>total_messages</th>\n",
       "      <th>base_cost</th>\n",
       "    </tr>\n",
       "    <tr>\n",
       "      <th>month</th>\n",
       "      <th>user_id</th>\n",
       "      <th></th>\n",
       "      <th></th>\n",
       "      <th></th>\n",
       "      <th></th>\n",
       "      <th></th>\n",
       "    </tr>\n",
       "  </thead>\n",
       "  <tbody>\n",
       "    <tr>\n",
       "      <td>Dec</td>\n",
       "      <td>1000</td>\n",
       "      <td>ultimate</td>\n",
       "      <td>124.0</td>\n",
       "      <td>1903.0</td>\n",
       "      <td>11.0</td>\n",
       "      <td>70</td>\n",
       "    </tr>\n",
       "    <tr>\n",
       "      <td>Aug</td>\n",
       "      <td>1001</td>\n",
       "      <td>surf</td>\n",
       "      <td>182.0</td>\n",
       "      <td>6929.0</td>\n",
       "      <td>30.0</td>\n",
       "      <td>20</td>\n",
       "    </tr>\n",
       "    <tr>\n",
       "      <td>Dec</td>\n",
       "      <td>1001</td>\n",
       "      <td>surf</td>\n",
       "      <td>412.0</td>\n",
       "      <td>19398.0</td>\n",
       "      <td>44.0</td>\n",
       "      <td>20</td>\n",
       "    </tr>\n",
       "    <tr>\n",
       "      <td>Nov</td>\n",
       "      <td>1001</td>\n",
       "      <td>surf</td>\n",
       "      <td>426.0</td>\n",
       "      <td>18524.0</td>\n",
       "      <td>36.0</td>\n",
       "      <td>20</td>\n",
       "    </tr>\n",
       "    <tr>\n",
       "      <td>Oct</td>\n",
       "      <td>1001</td>\n",
       "      <td>surf</td>\n",
       "      <td>393.0</td>\n",
       "      <td>22356.0</td>\n",
       "      <td>53.0</td>\n",
       "      <td>20</td>\n",
       "    </tr>\n",
       "  </tbody>\n",
       "</table>\n",
       "</div>"
      ],
      "text/plain": [
       "                 tariff  total_call_time  total_mb_used  total_messages  \\\n",
       "month user_id                                                             \n",
       "Dec   1000     ultimate            124.0         1903.0            11.0   \n",
       "Aug   1001         surf            182.0         6929.0            30.0   \n",
       "Dec   1001         surf            412.0        19398.0            44.0   \n",
       "Nov   1001         surf            426.0        18524.0            36.0   \n",
       "Oct   1001         surf            393.0        22356.0            53.0   \n",
       "\n",
       "               base_cost  \n",
       "month user_id             \n",
       "Dec   1000            70  \n",
       "Aug   1001            20  \n",
       "Dec   1001            20  \n",
       "Nov   1001            20  \n",
       "Oct   1001            20  "
      ]
     },
     "execution_count": 74,
     "metadata": {},
     "output_type": "execute_result"
    }
   ],
   "source": [
    "calc.head()"
   ]
  },
  {
   "cell_type": "code",
   "execution_count": 75,
   "metadata": {},
   "outputs": [],
   "source": [
    "def calc_call_cost(row):\n",
    "    charges = 0\n",
    "    if row['tariff'] == 'ultimate':\n",
    "        call_limit = 3000\n",
    "        min_charge = 0.01\n",
    "    if row['tariff'] == 'surf':\n",
    "        call_limit = 500\n",
    "        min_charge = 0.03\n",
    "    call_difference = call_limit - row['total_call_time']\n",
    "    if call_difference < 0: \n",
    "        call_over = abs(call_difference)\n",
    "        charges = call_over * min_charge\n",
    "    return charges"
   ]
  },
  {
   "cell_type": "code",
   "execution_count": 76,
   "metadata": {},
   "outputs": [],
   "source": [
    "def calc_data_cost(row):\n",
    "    charges = 0\n",
    "    if row['tariff'] == 'ultimate':\n",
    "        data_limit = 30720\n",
    "        data_charge = 7/1024\n",
    "    if row['tariff'] == 'surf':\n",
    "        data_limit = 15360\n",
    "        data_charge = 10/1024\n",
    "    data_difference = data_limit - row['total_mb_used']\n",
    "    if data_difference < 0: \n",
    "        data_over = abs(data_difference)\n",
    "        charges = data_over * data_charge\n",
    "    return charges"
   ]
  },
  {
   "cell_type": "code",
   "execution_count": 77,
   "metadata": {},
   "outputs": [],
   "source": [
    "def calc_message_cost(row):\n",
    "    charges = 0\n",
    "    if row['tariff'] == 'ultimate':\n",
    "        sms_limit = 1000\n",
    "        sms_charge = 0.01\n",
    "    if row['tariff'] == 'surf':\n",
    "        sms_limit = 50\n",
    "        sms_charge = 0.03\n",
    "    sms_difference = sms_limit - row['total_messages']\n",
    "    if sms_difference < 0: \n",
    "        sms_over = abs(sms_difference)\n",
    "        charges = sms_over * sms_charge\n",
    "    return charges"
   ]
  },
  {
   "cell_type": "code",
   "execution_count": 78,
   "metadata": {},
   "outputs": [],
   "source": [
    "calc['phone_cost'] = calc.apply(calc_call_cost, axis=1)"
   ]
  },
  {
   "cell_type": "code",
   "execution_count": 79,
   "metadata": {},
   "outputs": [],
   "source": [
    "calc['data_cost'] = calc.apply(calc_data_cost, axis=1)"
   ]
  },
  {
   "cell_type": "code",
   "execution_count": 80,
   "metadata": {},
   "outputs": [],
   "source": [
    "calc['message_cost'] = calc.apply(calc_message_cost, axis=1)"
   ]
  },
  {
   "cell_type": "code",
   "execution_count": 81,
   "metadata": {},
   "outputs": [],
   "source": [
    "calc['total_revenue'] = calc['base_cost'] + calc['phone_cost'] + calc['message_cost'] + calc['data_cost']"
   ]
  },
  {
   "cell_type": "code",
   "execution_count": 82,
   "metadata": {},
   "outputs": [
    {
     "data": {
      "text/html": [
       "<div>\n",
       "<style scoped>\n",
       "    .dataframe tbody tr th:only-of-type {\n",
       "        vertical-align: middle;\n",
       "    }\n",
       "\n",
       "    .dataframe tbody tr th {\n",
       "        vertical-align: top;\n",
       "    }\n",
       "\n",
       "    .dataframe thead th {\n",
       "        text-align: right;\n",
       "    }\n",
       "</style>\n",
       "<table border=\"1\" class=\"dataframe\">\n",
       "  <thead>\n",
       "    <tr style=\"text-align: right;\">\n",
       "      <th></th>\n",
       "      <th></th>\n",
       "      <th>tariff</th>\n",
       "      <th>total_call_time</th>\n",
       "      <th>total_mb_used</th>\n",
       "      <th>total_messages</th>\n",
       "      <th>base_cost</th>\n",
       "      <th>phone_cost</th>\n",
       "      <th>data_cost</th>\n",
       "      <th>message_cost</th>\n",
       "      <th>total_revenue</th>\n",
       "    </tr>\n",
       "    <tr>\n",
       "      <th>month</th>\n",
       "      <th>user_id</th>\n",
       "      <th></th>\n",
       "      <th></th>\n",
       "      <th></th>\n",
       "      <th></th>\n",
       "      <th></th>\n",
       "      <th></th>\n",
       "      <th></th>\n",
       "      <th></th>\n",
       "      <th></th>\n",
       "    </tr>\n",
       "  </thead>\n",
       "  <tbody>\n",
       "    <tr>\n",
       "      <td>Dec</td>\n",
       "      <td>1000</td>\n",
       "      <td>ultimate</td>\n",
       "      <td>124.0</td>\n",
       "      <td>1903.0</td>\n",
       "      <td>11.0</td>\n",
       "      <td>70</td>\n",
       "      <td>0.0</td>\n",
       "      <td>0.000000</td>\n",
       "      <td>0.00</td>\n",
       "      <td>70.000000</td>\n",
       "    </tr>\n",
       "    <tr>\n",
       "      <td>Aug</td>\n",
       "      <td>1001</td>\n",
       "      <td>surf</td>\n",
       "      <td>182.0</td>\n",
       "      <td>6929.0</td>\n",
       "      <td>30.0</td>\n",
       "      <td>20</td>\n",
       "      <td>0.0</td>\n",
       "      <td>0.000000</td>\n",
       "      <td>0.00</td>\n",
       "      <td>20.000000</td>\n",
       "    </tr>\n",
       "    <tr>\n",
       "      <td>Dec</td>\n",
       "      <td>1001</td>\n",
       "      <td>surf</td>\n",
       "      <td>412.0</td>\n",
       "      <td>19398.0</td>\n",
       "      <td>44.0</td>\n",
       "      <td>20</td>\n",
       "      <td>0.0</td>\n",
       "      <td>39.433594</td>\n",
       "      <td>0.00</td>\n",
       "      <td>59.433594</td>\n",
       "    </tr>\n",
       "    <tr>\n",
       "      <td>Nov</td>\n",
       "      <td>1001</td>\n",
       "      <td>surf</td>\n",
       "      <td>426.0</td>\n",
       "      <td>18524.0</td>\n",
       "      <td>36.0</td>\n",
       "      <td>20</td>\n",
       "      <td>0.0</td>\n",
       "      <td>30.898438</td>\n",
       "      <td>0.00</td>\n",
       "      <td>50.898438</td>\n",
       "    </tr>\n",
       "    <tr>\n",
       "      <td>Oct</td>\n",
       "      <td>1001</td>\n",
       "      <td>surf</td>\n",
       "      <td>393.0</td>\n",
       "      <td>22356.0</td>\n",
       "      <td>53.0</td>\n",
       "      <td>20</td>\n",
       "      <td>0.0</td>\n",
       "      <td>68.320312</td>\n",
       "      <td>0.09</td>\n",
       "      <td>88.410313</td>\n",
       "    </tr>\n",
       "  </tbody>\n",
       "</table>\n",
       "</div>"
      ],
      "text/plain": [
       "                 tariff  total_call_time  total_mb_used  total_messages  \\\n",
       "month user_id                                                             \n",
       "Dec   1000     ultimate            124.0         1903.0            11.0   \n",
       "Aug   1001         surf            182.0         6929.0            30.0   \n",
       "Dec   1001         surf            412.0        19398.0            44.0   \n",
       "Nov   1001         surf            426.0        18524.0            36.0   \n",
       "Oct   1001         surf            393.0        22356.0            53.0   \n",
       "\n",
       "               base_cost  phone_cost  data_cost  message_cost  total_revenue  \n",
       "month user_id                                                                 \n",
       "Dec   1000            70         0.0   0.000000          0.00      70.000000  \n",
       "Aug   1001            20         0.0   0.000000          0.00      20.000000  \n",
       "Dec   1001            20         0.0  39.433594          0.00      59.433594  \n",
       "Nov   1001            20         0.0  30.898438          0.00      50.898438  \n",
       "Oct   1001            20         0.0  68.320312          0.09      88.410313  "
      ]
     },
     "execution_count": 82,
     "metadata": {},
     "output_type": "execute_result"
    }
   ],
   "source": [
    "calc.head()"
   ]
  },
  {
   "cell_type": "code",
   "execution_count": 83,
   "metadata": {},
   "outputs": [],
   "source": [
    "pivot = pd.pivot_table(calc, index='user_id', values='total_revenue', aggfunc='sum')"
   ]
  },
  {
   "cell_type": "code",
   "execution_count": 84,
   "metadata": {},
   "outputs": [],
   "source": [
    "pivot['avg_revenue_per_month'] = pivot['total_revenue'] / 12"
   ]
  },
  {
   "cell_type": "code",
   "execution_count": 85,
   "metadata": {
    "scrolled": true
   },
   "outputs": [
    {
     "data": {
      "text/html": [
       "<div>\n",
       "<style scoped>\n",
       "    .dataframe tbody tr th:only-of-type {\n",
       "        vertical-align: middle;\n",
       "    }\n",
       "\n",
       "    .dataframe tbody tr th {\n",
       "        vertical-align: top;\n",
       "    }\n",
       "\n",
       "    .dataframe thead th {\n",
       "        text-align: right;\n",
       "    }\n",
       "</style>\n",
       "<table border=\"1\" class=\"dataframe\">\n",
       "  <thead>\n",
       "    <tr style=\"text-align: right;\">\n",
       "      <th></th>\n",
       "      <th>total_revenue</th>\n",
       "      <th>avg_revenue_per_month</th>\n",
       "    </tr>\n",
       "    <tr>\n",
       "      <th>user_id</th>\n",
       "      <th></th>\n",
       "      <th></th>\n",
       "    </tr>\n",
       "  </thead>\n",
       "  <tbody>\n",
       "    <tr>\n",
       "      <td>1000</td>\n",
       "      <td>70.000000</td>\n",
       "      <td>5.833333</td>\n",
       "    </tr>\n",
       "    <tr>\n",
       "      <td>1001</td>\n",
       "      <td>238.742344</td>\n",
       "      <td>19.895195</td>\n",
       "    </tr>\n",
       "    <tr>\n",
       "      <td>1002</td>\n",
       "      <td>99.101562</td>\n",
       "      <td>8.258464</td>\n",
       "    </tr>\n",
       "    <tr>\n",
       "      <td>1003</td>\n",
       "      <td>152.465703</td>\n",
       "      <td>12.705475</td>\n",
       "    </tr>\n",
       "    <tr>\n",
       "      <td>1004</td>\n",
       "      <td>582.558594</td>\n",
       "      <td>48.546549</td>\n",
       "    </tr>\n",
       "  </tbody>\n",
       "</table>\n",
       "</div>"
      ],
      "text/plain": [
       "         total_revenue  avg_revenue_per_month\n",
       "user_id                                      \n",
       "1000         70.000000               5.833333\n",
       "1001        238.742344              19.895195\n",
       "1002         99.101562               8.258464\n",
       "1003        152.465703              12.705475\n",
       "1004        582.558594              48.546549"
      ]
     },
     "execution_count": 85,
     "metadata": {},
     "output_type": "execute_result"
    }
   ],
   "source": [
    "pivot.head()"
   ]
  },
  {
   "cell_type": "code",
   "execution_count": 86,
   "metadata": {},
   "outputs": [],
   "source": [
    "users2 = users.drop(['first_name', 'last_name', 'age', 'city', 'reg_date', 'churn_date'], axis=1)"
   ]
  },
  {
   "cell_type": "code",
   "execution_count": 87,
   "metadata": {},
   "outputs": [],
   "source": [
    "pivot = pivot.merge(users2, on='user_id')"
   ]
  },
  {
   "cell_type": "code",
   "execution_count": 88,
   "metadata": {},
   "outputs": [
    {
     "name": "stdout",
     "output_type": "stream",
     "text": [
      "         total_revenue  avg_revenue_per_month    tariff\n",
      "user_id                                                \n",
      "1268       1765.645156             147.137096      surf\n",
      "1240       1632.467578             136.038965      surf\n",
      "1359       1567.145156             130.595430      surf\n",
      "1292       1552.226562             129.352214      surf\n",
      "1147       1540.562422             128.380202      surf\n",
      "1374       1361.946406             113.495534      surf\n",
      "1028       1211.615234             100.967936  ultimate\n",
      "1328       1156.239687              96.353307      surf\n",
      "1201       1104.406484              92.033874      surf\n",
      "1251       1016.534453              84.711204      surf\n"
     ]
    }
   ],
   "source": [
    "print(pivot.sort_values('total_revenue', ascending=False).head(10))"
   ]
  },
  {
   "cell_type": "code",
   "execution_count": 89,
   "metadata": {},
   "outputs": [],
   "source": [
    "total_yearly_revenue = sum(pivot['total_revenue'])"
   ]
  },
  {
   "cell_type": "code",
   "execution_count": 90,
   "metadata": {
    "scrolled": true
   },
   "outputs": [
    {
     "name": "stdout",
     "output_type": "stream",
     "text": [
      "140401.7002734375\n"
     ]
    }
   ],
   "source": [
    "print(total_yearly_revenue)"
   ]
  },
  {
   "cell_type": "markdown",
   "metadata": {},
   "source": [
    "# Notes"
   ]
  },
  {
   "cell_type": "markdown",
   "metadata": {},
   "source": [
    "At this point, I defined some custom functions to calculate points of interest. Namely, we want to know how much each user pays for month. We now have that data easily accessible. Similarly, I decided to look at the total yearly revenue, as well as take a closer look at the biggest spenders over the course of the year. \n",
    "\n",
    "When breaking down the total revenue by each user over the year, we find out of our top 10 customers, 9 of them are on the surf plan. It appears so far that surf plans are the bigger money-maker. We'll be able to use some of this insight to better inform our data analysis. Now it's time to dig into the data some more."
   ]
  },
  {
   "cell_type": "markdown",
   "metadata": {},
   "source": [
    "# Step 3. Analyze the Data"
   ]
  },
  {
   "cell_type": "code",
   "execution_count": 91,
   "metadata": {},
   "outputs": [],
   "source": [
    "plan_data = pd.pivot_table(calc, index='tariff', values=['total_messages', 'total_mb_used', 'total_call_time'], \n",
    "                                                         aggfunc=['mean', 'median', 'var', 'std'])"
   ]
  },
  {
   "cell_type": "code",
   "execution_count": 92,
   "metadata": {},
   "outputs": [
    {
     "data": {
      "text/html": [
       "<div>\n",
       "<style scoped>\n",
       "    .dataframe tbody tr th:only-of-type {\n",
       "        vertical-align: middle;\n",
       "    }\n",
       "\n",
       "    .dataframe tbody tr th {\n",
       "        vertical-align: top;\n",
       "    }\n",
       "\n",
       "    .dataframe thead tr th {\n",
       "        text-align: left;\n",
       "    }\n",
       "\n",
       "    .dataframe thead tr:last-of-type th {\n",
       "        text-align: right;\n",
       "    }\n",
       "</style>\n",
       "<table border=\"1\" class=\"dataframe\">\n",
       "  <thead>\n",
       "    <tr>\n",
       "      <th></th>\n",
       "      <th colspan=\"3\" halign=\"left\">mean</th>\n",
       "      <th colspan=\"3\" halign=\"left\">median</th>\n",
       "      <th colspan=\"3\" halign=\"left\">var</th>\n",
       "      <th colspan=\"3\" halign=\"left\">std</th>\n",
       "    </tr>\n",
       "    <tr>\n",
       "      <th></th>\n",
       "      <th>total_call_time</th>\n",
       "      <th>total_mb_used</th>\n",
       "      <th>total_messages</th>\n",
       "      <th>total_call_time</th>\n",
       "      <th>total_mb_used</th>\n",
       "      <th>total_messages</th>\n",
       "      <th>total_call_time</th>\n",
       "      <th>total_mb_used</th>\n",
       "      <th>total_messages</th>\n",
       "      <th>total_call_time</th>\n",
       "      <th>total_mb_used</th>\n",
       "      <th>total_messages</th>\n",
       "    </tr>\n",
       "    <tr>\n",
       "      <th>tariff</th>\n",
       "      <th></th>\n",
       "      <th></th>\n",
       "      <th></th>\n",
       "      <th></th>\n",
       "      <th></th>\n",
       "      <th></th>\n",
       "      <th></th>\n",
       "      <th></th>\n",
       "      <th></th>\n",
       "      <th></th>\n",
       "      <th></th>\n",
       "      <th></th>\n",
       "    </tr>\n",
       "  </thead>\n",
       "  <tbody>\n",
       "    <tr>\n",
       "      <td>surf</td>\n",
       "      <td>436.802461</td>\n",
       "      <td>16697.013080</td>\n",
       "      <td>39.980737</td>\n",
       "      <td>430.0</td>\n",
       "      <td>16952.0</td>\n",
       "      <td>32.0</td>\n",
       "      <td>52481.561083</td>\n",
       "      <td>5.950399e+07</td>\n",
       "      <td>1101.537768</td>\n",
       "      <td>229.088544</td>\n",
       "      <td>7713.883136</td>\n",
       "      <td>33.189423</td>\n",
       "    </tr>\n",
       "    <tr>\n",
       "      <td>ultimate</td>\n",
       "      <td>435.286517</td>\n",
       "      <td>17321.925562</td>\n",
       "      <td>46.534602</td>\n",
       "      <td>425.5</td>\n",
       "      <td>16890.5</td>\n",
       "      <td>41.0</td>\n",
       "      <td>56387.085163</td>\n",
       "      <td>5.999959e+07</td>\n",
       "      <td>1082.685976</td>\n",
       "      <td>237.459650</td>\n",
       "      <td>7745.940139</td>\n",
       "      <td>32.904194</td>\n",
       "    </tr>\n",
       "  </tbody>\n",
       "</table>\n",
       "</div>"
      ],
      "text/plain": [
       "                    mean                                       median  \\\n",
       "         total_call_time total_mb_used total_messages total_call_time   \n",
       "tariff                                                                  \n",
       "surf          436.802461  16697.013080      39.980737           430.0   \n",
       "ultimate      435.286517  17321.925562      46.534602           425.5   \n",
       "\n",
       "                                                  var                \\\n",
       "         total_mb_used total_messages total_call_time total_mb_used   \n",
       "tariff                                                                \n",
       "surf           16952.0           32.0    52481.561083  5.950399e+07   \n",
       "ultimate       16890.5           41.0    56387.085163  5.999959e+07   \n",
       "\n",
       "                                    std                               \n",
       "         total_messages total_call_time total_mb_used total_messages  \n",
       "tariff                                                                \n",
       "surf        1101.537768      229.088544   7713.883136      33.189423  \n",
       "ultimate    1082.685976      237.459650   7745.940139      32.904194  "
      ]
     },
     "execution_count": 92,
     "metadata": {},
     "output_type": "execute_result"
    }
   ],
   "source": [
    "plan_data.head()"
   ]
  },
  {
   "cell_type": "code",
   "execution_count": 93,
   "metadata": {},
   "outputs": [],
   "source": [
    "plan_monthly = pd.pivot_table(calc, index=['month', 'tariff'], values=['total_messages', 'total_mb_used', 'total_call_time'], \n",
    "                                                         aggfunc=['mean', 'var', 'std'])"
   ]
  },
  {
   "cell_type": "code",
   "execution_count": 94,
   "metadata": {},
   "outputs": [],
   "source": [
    "plan_monthly.columns = ['mean_call_len', 'mean_mb_used', 'mean_sms_sent', 'call_var', 'mb_var', 'sms_var',\n",
    "                       'call_std', 'mb_std', 'sms_std']"
   ]
  },
  {
   "cell_type": "code",
   "execution_count": 95,
   "metadata": {
    "scrolled": false
   },
   "outputs": [
    {
     "data": {
      "text/html": [
       "<div>\n",
       "<style scoped>\n",
       "    .dataframe tbody tr th:only-of-type {\n",
       "        vertical-align: middle;\n",
       "    }\n",
       "\n",
       "    .dataframe tbody tr th {\n",
       "        vertical-align: top;\n",
       "    }\n",
       "\n",
       "    .dataframe thead th {\n",
       "        text-align: right;\n",
       "    }\n",
       "</style>\n",
       "<table border=\"1\" class=\"dataframe\">\n",
       "  <thead>\n",
       "    <tr style=\"text-align: right;\">\n",
       "      <th></th>\n",
       "      <th></th>\n",
       "      <th>mean_call_len</th>\n",
       "      <th>mean_mb_used</th>\n",
       "      <th>mean_sms_sent</th>\n",
       "      <th>call_var</th>\n",
       "      <th>mb_var</th>\n",
       "      <th>sms_var</th>\n",
       "      <th>call_std</th>\n",
       "      <th>mb_std</th>\n",
       "      <th>sms_std</th>\n",
       "    </tr>\n",
       "    <tr>\n",
       "      <th>month</th>\n",
       "      <th>tariff</th>\n",
       "      <th></th>\n",
       "      <th></th>\n",
       "      <th></th>\n",
       "      <th></th>\n",
       "      <th></th>\n",
       "      <th></th>\n",
       "      <th></th>\n",
       "      <th></th>\n",
       "      <th></th>\n",
       "    </tr>\n",
       "  </thead>\n",
       "  <tbody>\n",
       "    <tr>\n",
       "      <td rowspan=\"2\" valign=\"top\">Apr</td>\n",
       "      <td>surf</td>\n",
       "      <td>351.540000</td>\n",
       "      <td>12243.061224</td>\n",
       "      <td>24.166667</td>\n",
       "      <td>50866.743265</td>\n",
       "      <td>5.734854e+07</td>\n",
       "      <td>534.028571</td>\n",
       "      <td>225.536567</td>\n",
       "      <td>7572.882161</td>\n",
       "      <td>23.109058</td>\n",
       "    </tr>\n",
       "    <tr>\n",
       "      <td>ultimate</td>\n",
       "      <td>336.857143</td>\n",
       "      <td>16140.476190</td>\n",
       "      <td>28.937500</td>\n",
       "      <td>34888.928571</td>\n",
       "      <td>8.859513e+07</td>\n",
       "      <td>512.862500</td>\n",
       "      <td>186.785783</td>\n",
       "      <td>9412.498689</td>\n",
       "      <td>22.646468</td>\n",
       "    </tr>\n",
       "    <tr>\n",
       "      <td rowspan=\"2\" valign=\"top\">Aug</td>\n",
       "      <td>surf</td>\n",
       "      <td>417.849057</td>\n",
       "      <td>17214.576923</td>\n",
       "      <td>37.917355</td>\n",
       "      <td>52122.749224</td>\n",
       "      <td>7.103085e+07</td>\n",
       "      <td>1031.659780</td>\n",
       "      <td>228.304072</td>\n",
       "      <td>8427.980282</td>\n",
       "      <td>32.119461</td>\n",
       "    </tr>\n",
       "    <tr>\n",
       "      <td>ultimate</td>\n",
       "      <td>421.436620</td>\n",
       "      <td>17834.887324</td>\n",
       "      <td>47.929825</td>\n",
       "      <td>53645.506640</td>\n",
       "      <td>6.054714e+07</td>\n",
       "      <td>1034.387845</td>\n",
       "      <td>231.614997</td>\n",
       "      <td>7781.204098</td>\n",
       "      <td>32.161901</td>\n",
       "    </tr>\n",
       "    <tr>\n",
       "      <td rowspan=\"2\" valign=\"top\">Dec</td>\n",
       "      <td>surf</td>\n",
       "      <td>484.501608</td>\n",
       "      <td>18060.148387</td>\n",
       "      <td>48.113360</td>\n",
       "      <td>59882.373385</td>\n",
       "      <td>6.416609e+07</td>\n",
       "      <td>1379.426122</td>\n",
       "      <td>244.708752</td>\n",
       "      <td>8010.374094</td>\n",
       "      <td>37.140626</td>\n",
       "    </tr>\n",
       "    <tr>\n",
       "      <td>ultimate</td>\n",
       "      <td>465.261745</td>\n",
       "      <td>18342.630872</td>\n",
       "      <td>53.744000</td>\n",
       "      <td>60461.924270</td>\n",
       "      <td>5.832627e+07</td>\n",
       "      <td>1380.175871</td>\n",
       "      <td>245.890065</td>\n",
       "      <td>7637.163721</td>\n",
       "      <td>37.150718</td>\n",
       "    </tr>\n",
       "    <tr>\n",
       "      <td rowspan=\"2\" valign=\"top\">Feb</td>\n",
       "      <td>surf</td>\n",
       "      <td>297.000000</td>\n",
       "      <td>12192.888889</td>\n",
       "      <td>21.600000</td>\n",
       "      <td>52226.500000</td>\n",
       "      <td>4.377810e+07</td>\n",
       "      <td>512.800000</td>\n",
       "      <td>228.531179</td>\n",
       "      <td>6616.502257</td>\n",
       "      <td>22.645088</td>\n",
       "    </tr>\n",
       "    <tr>\n",
       "      <td>ultimate</td>\n",
       "      <td>470.333333</td>\n",
       "      <td>17906.500000</td>\n",
       "      <td>27.800000</td>\n",
       "      <td>54345.066667</td>\n",
       "      <td>4.047629e+07</td>\n",
       "      <td>529.700000</td>\n",
       "      <td>233.120284</td>\n",
       "      <td>6362.098105</td>\n",
       "      <td>23.015212</td>\n",
       "    </tr>\n",
       "    <tr>\n",
       "      <td rowspan=\"2\" valign=\"top\">Jan</td>\n",
       "      <td>surf</td>\n",
       "      <td>203.000000</td>\n",
       "      <td>4881.000000</td>\n",
       "      <td>21.000000</td>\n",
       "      <td>15842.000000</td>\n",
       "      <td>1.827706e+07</td>\n",
       "      <td>NaN</td>\n",
       "      <td>125.865007</td>\n",
       "      <td>4275.167599</td>\n",
       "      <td>NaN</td>\n",
       "    </tr>\n",
       "    <tr>\n",
       "      <td>ultimate</td>\n",
       "      <td>193.500000</td>\n",
       "      <td>6926.250000</td>\n",
       "      <td>20.666667</td>\n",
       "      <td>16572.333333</td>\n",
       "      <td>1.642061e+07</td>\n",
       "      <td>310.333333</td>\n",
       "      <td>128.733575</td>\n",
       "      <td>4052.235052</td>\n",
       "      <td>17.616280</td>\n",
       "    </tr>\n",
       "    <tr>\n",
       "      <td rowspan=\"2\" valign=\"top\">Jul</td>\n",
       "      <td>surf</td>\n",
       "      <td>453.733333</td>\n",
       "      <td>16946.252101</td>\n",
       "      <td>36.033333</td>\n",
       "      <td>59802.012325</td>\n",
       "      <td>6.349874e+07</td>\n",
       "      <td>917.470787</td>\n",
       "      <td>244.544500</td>\n",
       "      <td>7968.609821</td>\n",
       "      <td>30.289780</td>\n",
       "    </tr>\n",
       "    <tr>\n",
       "      <td>ultimate</td>\n",
       "      <td>427.067797</td>\n",
       "      <td>16363.677966</td>\n",
       "      <td>41.212766</td>\n",
       "      <td>72563.374635</td>\n",
       "      <td>6.855162e+07</td>\n",
       "      <td>858.084181</td>\n",
       "      <td>269.375898</td>\n",
       "      <td>8279.590645</td>\n",
       "      <td>29.293074</td>\n",
       "    </tr>\n",
       "    <tr>\n",
       "      <td rowspan=\"2\" valign=\"top\">Jun</td>\n",
       "      <td>surf</td>\n",
       "      <td>435.791667</td>\n",
       "      <td>15652.627660</td>\n",
       "      <td>33.708333</td>\n",
       "      <td>44094.061404</td>\n",
       "      <td>4.566182e+07</td>\n",
       "      <td>948.970070</td>\n",
       "      <td>209.985860</td>\n",
       "      <td>6757.353113</td>\n",
       "      <td>30.805358</td>\n",
       "    </tr>\n",
       "    <tr>\n",
       "      <td>ultimate</td>\n",
       "      <td>387.444444</td>\n",
       "      <td>15938.244444</td>\n",
       "      <td>37.135135</td>\n",
       "      <td>37902.570707</td>\n",
       "      <td>6.722775e+07</td>\n",
       "      <td>801.731231</td>\n",
       "      <td>194.685826</td>\n",
       "      <td>8199.253159</td>\n",
       "      <td>28.314859</td>\n",
       "    </tr>\n",
       "    <tr>\n",
       "      <td rowspan=\"2\" valign=\"top\">Mar</td>\n",
       "      <td>surf</td>\n",
       "      <td>330.000000</td>\n",
       "      <td>13361.043478</td>\n",
       "      <td>21.937500</td>\n",
       "      <td>35809.363636</td>\n",
       "      <td>6.839062e+07</td>\n",
       "      <td>352.062500</td>\n",
       "      <td>189.233622</td>\n",
       "      <td>8269.861896</td>\n",
       "      <td>18.763329</td>\n",
       "    </tr>\n",
       "    <tr>\n",
       "      <td>ultimate</td>\n",
       "      <td>304.250000</td>\n",
       "      <td>18340.250000</td>\n",
       "      <td>34.714286</td>\n",
       "      <td>61984.931818</td>\n",
       "      <td>1.406093e+08</td>\n",
       "      <td>613.904762</td>\n",
       "      <td>248.967732</td>\n",
       "      <td>11857.880971</td>\n",
       "      <td>24.777102</td>\n",
       "    </tr>\n",
       "    <tr>\n",
       "      <td rowspan=\"2\" valign=\"top\">May</td>\n",
       "      <td>surf</td>\n",
       "      <td>410.240000</td>\n",
       "      <td>14410.837838</td>\n",
       "      <td>33.870370</td>\n",
       "      <td>56938.779459</td>\n",
       "      <td>5.837506e+07</td>\n",
       "      <td>877.548917</td>\n",
       "      <td>238.618481</td>\n",
       "      <td>7640.357153</td>\n",
       "      <td>29.623452</td>\n",
       "    </tr>\n",
       "    <tr>\n",
       "      <td>ultimate</td>\n",
       "      <td>406.241379</td>\n",
       "      <td>16643.758621</td>\n",
       "      <td>44.333333</td>\n",
       "      <td>43841.046798</td>\n",
       "      <td>5.689892e+07</td>\n",
       "      <td>1246.933333</td>\n",
       "      <td>209.382537</td>\n",
       "      <td>7543.137575</td>\n",
       "      <td>35.311943</td>\n",
       "    </tr>\n",
       "    <tr>\n",
       "      <td rowspan=\"2\" valign=\"top\">Nov</td>\n",
       "      <td>surf</td>\n",
       "      <td>432.494585</td>\n",
       "      <td>16428.305455</td>\n",
       "      <td>40.436364</td>\n",
       "      <td>48748.787108</td>\n",
       "      <td>5.183890e+07</td>\n",
       "      <td>1011.370361</td>\n",
       "      <td>220.791275</td>\n",
       "      <td>7199.923626</td>\n",
       "      <td>31.802050</td>\n",
       "    </tr>\n",
       "    <tr>\n",
       "      <td>ultimate</td>\n",
       "      <td>452.320000</td>\n",
       "      <td>17153.216000</td>\n",
       "      <td>48.118812</td>\n",
       "      <td>58322.606452</td>\n",
       "      <td>5.620321e+07</td>\n",
       "      <td>1089.805743</td>\n",
       "      <td>241.500738</td>\n",
       "      <td>7496.880011</td>\n",
       "      <td>33.012206</td>\n",
       "    </tr>\n",
       "    <tr>\n",
       "      <td rowspan=\"2\" valign=\"top\">Oct</td>\n",
       "      <td>surf</td>\n",
       "      <td>440.891775</td>\n",
       "      <td>17555.728070</td>\n",
       "      <td>41.945652</td>\n",
       "      <td>48699.905628</td>\n",
       "      <td>5.780164e+07</td>\n",
       "      <td>1248.095391</td>\n",
       "      <td>220.680551</td>\n",
       "      <td>7602.739275</td>\n",
       "      <td>35.328394</td>\n",
       "    </tr>\n",
       "    <tr>\n",
       "      <td>ultimate</td>\n",
       "      <td>455.028571</td>\n",
       "      <td>17801.123810</td>\n",
       "      <td>47.488636</td>\n",
       "      <td>52811.566484</td>\n",
       "      <td>5.462604e+07</td>\n",
       "      <td>1088.160789</td>\n",
       "      <td>229.807673</td>\n",
       "      <td>7390.943405</td>\n",
       "      <td>32.987282</td>\n",
       "    </tr>\n",
       "    <tr>\n",
       "      <td rowspan=\"2\" valign=\"top\">Sep</td>\n",
       "      <td>surf</td>\n",
       "      <td>420.732984</td>\n",
       "      <td>16547.673684</td>\n",
       "      <td>39.202703</td>\n",
       "      <td>44579.912538</td>\n",
       "      <td>4.834398e+07</td>\n",
       "      <td>947.822578</td>\n",
       "      <td>211.139557</td>\n",
       "      <td>6952.983478</td>\n",
       "      <td>30.786727</td>\n",
       "    </tr>\n",
       "    <tr>\n",
       "      <td>ultimate</td>\n",
       "      <td>437.511628</td>\n",
       "      <td>16989.395349</td>\n",
       "      <td>45.901408</td>\n",
       "      <td>57070.464569</td>\n",
       "      <td>4.941798e+07</td>\n",
       "      <td>903.375855</td>\n",
       "      <td>238.894254</td>\n",
       "      <td>7029.792642</td>\n",
       "      <td>30.056212</td>\n",
       "    </tr>\n",
       "  </tbody>\n",
       "</table>\n",
       "</div>"
      ],
      "text/plain": [
       "                mean_call_len  mean_mb_used  mean_sms_sent      call_var  \\\n",
       "month tariff                                                               \n",
       "Apr   surf         351.540000  12243.061224      24.166667  50866.743265   \n",
       "      ultimate     336.857143  16140.476190      28.937500  34888.928571   \n",
       "Aug   surf         417.849057  17214.576923      37.917355  52122.749224   \n",
       "      ultimate     421.436620  17834.887324      47.929825  53645.506640   \n",
       "Dec   surf         484.501608  18060.148387      48.113360  59882.373385   \n",
       "      ultimate     465.261745  18342.630872      53.744000  60461.924270   \n",
       "Feb   surf         297.000000  12192.888889      21.600000  52226.500000   \n",
       "      ultimate     470.333333  17906.500000      27.800000  54345.066667   \n",
       "Jan   surf         203.000000   4881.000000      21.000000  15842.000000   \n",
       "      ultimate     193.500000   6926.250000      20.666667  16572.333333   \n",
       "Jul   surf         453.733333  16946.252101      36.033333  59802.012325   \n",
       "      ultimate     427.067797  16363.677966      41.212766  72563.374635   \n",
       "Jun   surf         435.791667  15652.627660      33.708333  44094.061404   \n",
       "      ultimate     387.444444  15938.244444      37.135135  37902.570707   \n",
       "Mar   surf         330.000000  13361.043478      21.937500  35809.363636   \n",
       "      ultimate     304.250000  18340.250000      34.714286  61984.931818   \n",
       "May   surf         410.240000  14410.837838      33.870370  56938.779459   \n",
       "      ultimate     406.241379  16643.758621      44.333333  43841.046798   \n",
       "Nov   surf         432.494585  16428.305455      40.436364  48748.787108   \n",
       "      ultimate     452.320000  17153.216000      48.118812  58322.606452   \n",
       "Oct   surf         440.891775  17555.728070      41.945652  48699.905628   \n",
       "      ultimate     455.028571  17801.123810      47.488636  52811.566484   \n",
       "Sep   surf         420.732984  16547.673684      39.202703  44579.912538   \n",
       "      ultimate     437.511628  16989.395349      45.901408  57070.464569   \n",
       "\n",
       "                      mb_var      sms_var    call_std        mb_std    sms_std  \n",
       "month tariff                                                                    \n",
       "Apr   surf      5.734854e+07   534.028571  225.536567   7572.882161  23.109058  \n",
       "      ultimate  8.859513e+07   512.862500  186.785783   9412.498689  22.646468  \n",
       "Aug   surf      7.103085e+07  1031.659780  228.304072   8427.980282  32.119461  \n",
       "      ultimate  6.054714e+07  1034.387845  231.614997   7781.204098  32.161901  \n",
       "Dec   surf      6.416609e+07  1379.426122  244.708752   8010.374094  37.140626  \n",
       "      ultimate  5.832627e+07  1380.175871  245.890065   7637.163721  37.150718  \n",
       "Feb   surf      4.377810e+07   512.800000  228.531179   6616.502257  22.645088  \n",
       "      ultimate  4.047629e+07   529.700000  233.120284   6362.098105  23.015212  \n",
       "Jan   surf      1.827706e+07          NaN  125.865007   4275.167599        NaN  \n",
       "      ultimate  1.642061e+07   310.333333  128.733575   4052.235052  17.616280  \n",
       "Jul   surf      6.349874e+07   917.470787  244.544500   7968.609821  30.289780  \n",
       "      ultimate  6.855162e+07   858.084181  269.375898   8279.590645  29.293074  \n",
       "Jun   surf      4.566182e+07   948.970070  209.985860   6757.353113  30.805358  \n",
       "      ultimate  6.722775e+07   801.731231  194.685826   8199.253159  28.314859  \n",
       "Mar   surf      6.839062e+07   352.062500  189.233622   8269.861896  18.763329  \n",
       "      ultimate  1.406093e+08   613.904762  248.967732  11857.880971  24.777102  \n",
       "May   surf      5.837506e+07   877.548917  238.618481   7640.357153  29.623452  \n",
       "      ultimate  5.689892e+07  1246.933333  209.382537   7543.137575  35.311943  \n",
       "Nov   surf      5.183890e+07  1011.370361  220.791275   7199.923626  31.802050  \n",
       "      ultimate  5.620321e+07  1089.805743  241.500738   7496.880011  33.012206  \n",
       "Oct   surf      5.780164e+07  1248.095391  220.680551   7602.739275  35.328394  \n",
       "      ultimate  5.462604e+07  1088.160789  229.807673   7390.943405  32.987282  \n",
       "Sep   surf      4.834398e+07   947.822578  211.139557   6952.983478  30.786727  \n",
       "      ultimate  4.941798e+07   903.375855  238.894254   7029.792642  30.056212  "
      ]
     },
     "execution_count": 95,
     "metadata": {},
     "output_type": "execute_result"
    }
   ],
   "source": [
    "plan_monthly"
   ]
  },
  {
   "cell_type": "code",
   "execution_count": 96,
   "metadata": {},
   "outputs": [],
   "source": [
    "surf = df[df['tariff'] == 'surf']"
   ]
  },
  {
   "cell_type": "code",
   "execution_count": 97,
   "metadata": {},
   "outputs": [],
   "source": [
    "ultimate = df[df['tariff'] == 'ultimate']"
   ]
  },
  {
   "cell_type": "code",
   "execution_count": 98,
   "metadata": {
    "scrolled": false
   },
   "outputs": [
    {
     "data": {
      "text/plain": [
       "Text(0, 0.5, 'Frequency')"
      ]
     },
     "execution_count": 98,
     "metadata": {},
     "output_type": "execute_result"
    },
    {
     "data": {
      "image/png": "[encoded data removed]",
      "text/plain": [
       "<Figure size 432x288 with 1 Axes>"
      ]
     },
     "metadata": {
      "needs_background": "light"
     },
     "output_type": "display_data"
    }
   ],
   "source": [
    "surf.hist(column='total_call_time', bins=15)\n",
    "plt.xlabel('Total Call Length')\n",
    "plt.ylabel('Frequency')"
   ]
  },
  {
   "cell_type": "code",
   "execution_count": 99,
   "metadata": {},
   "outputs": [
    {
     "data": {
      "text/plain": [
       "Text(0, 0.5, 'Frequency')"
      ]
     },
     "execution_count": 99,
     "metadata": {},
     "output_type": "execute_result"
    },
    {
     "data": {
      "image/png": "[encoded data removed]",
      "text/plain": [
       "<Figure size 432x288 with 1 Axes>"
      ]
     },
     "metadata": {
      "needs_background": "light"
     },
     "output_type": "display_data"
    }
   ],
   "source": [
    "ultimate.hist(column='total_call_time', bins=15)\n",
    "plt.xlabel('Total Call Length')\n",
    "plt.ylabel('Frequency')"
   ]
  },
  {
   "cell_type": "code",
   "execution_count": 100,
   "metadata": {
    "scrolled": true
   },
   "outputs": [
    {
     "data": {
      "text/plain": [
       "Text(0, 0.5, 'Frequency')"
      ]
     },
     "execution_count": 100,
     "metadata": {},
     "output_type": "execute_result"
    },
    {
     "data": {
      "image/png": "[encoded data removed]",
      "text/plain": [
       "<Figure size 432x288 with 1 Axes>"
      ]
     },
     "metadata": {
      "needs_background": "light"
     },
     "output_type": "display_data"
    }
   ],
   "source": [
    "surf.hist(column='total_mb_used', bins=15)\n",
    "plt.xlabel('Total Data Usage')\n",
    "plt.ylabel('Frequency')"
   ]
  },
  {
   "cell_type": "code",
   "execution_count": 101,
   "metadata": {},
   "outputs": [
    {
     "data": {
      "text/plain": [
       "Text(0, 0.5, 'Frequency')"
      ]
     },
     "execution_count": 101,
     "metadata": {},
     "output_type": "execute_result"
    },
    {
     "data": {
      "image/png": "[encoded data removed]",
      "text/plain": [
       "<Figure size 432x288 with 1 Axes>"
      ]
     },
     "metadata": {
      "needs_background": "light"
     },
     "output_type": "display_data"
    }
   ],
   "source": [
    "ultimate.hist(column='total_mb_used', bins=15)\n",
    "plt.xlabel('Total Data Usage')\n",
    "plt.ylabel('Frequency')"
   ]
  },
  {
   "cell_type": "code",
   "execution_count": 102,
   "metadata": {},
   "outputs": [
    {
     "data": {
      "text/plain": [
       "Text(0, 0.5, 'Frequency')"
      ]
     },
     "execution_count": 102,
     "metadata": {},
     "output_type": "execute_result"
    },
    {
     "data": {
      "image/png": "[encoded data removed]",
      "text/plain": [
       "<Figure size 432x288 with 1 Axes>"
      ]
     },
     "metadata": {
      "needs_background": "light"
     },
     "output_type": "display_data"
    }
   ],
   "source": [
    "surf.hist(column='total_messages', bins=20)\n",
    "plt.xlabel('Total Messages Sent')\n",
    "plt.ylabel('Frequency')"
   ]
  },
  {
   "cell_type": "code",
   "execution_count": 103,
   "metadata": {},
   "outputs": [
    {
     "data": {
      "text/plain": [
       "Text(0, 0.5, 'Frequency')"
      ]
     },
     "execution_count": 103,
     "metadata": {},
     "output_type": "execute_result"
    },
    {
     "data": {
      "image/png": "[encoded data removed]",
      "text/plain": [
       "<Figure size 432x288 with 1 Axes>"
      ]
     },
     "metadata": {
      "needs_background": "light"
     },
     "output_type": "display_data"
    }
   ],
   "source": [
    "ultimate.hist(column='total_messages', bins=20)\n",
    "plt.xlabel('Total Messages Sent')\n",
    "plt.ylabel('Frequency')"
   ]
  },
  {
   "cell_type": "code",
   "execution_count": 104,
   "metadata": {},
   "outputs": [
    {
     "data": {
      "text/plain": [
       "array([[<matplotlib.axes._subplots.AxesSubplot object at 0x000001F7805A7648>,\n",
       "        <matplotlib.axes._subplots.AxesSubplot object at 0x000001F780685F08>,\n",
       "        <matplotlib.axes._subplots.AxesSubplot object at 0x000001F7806C4E48>],\n",
       "       [<matplotlib.axes._subplots.AxesSubplot object at 0x000001F7806F7048>,\n",
       "        <matplotlib.axes._subplots.AxesSubplot object at 0x000001F78072DA08>,\n",
       "        <matplotlib.axes._subplots.AxesSubplot object at 0x000001F780767B08>],\n",
       "       [<matplotlib.axes._subplots.AxesSubplot object at 0x000001F78079FBC8>,\n",
       "        <matplotlib.axes._subplots.AxesSubplot object at 0x000001F7807D8CC8>,\n",
       "        <matplotlib.axes._subplots.AxesSubplot object at 0x000001F7807E38C8>],\n",
       "       [<matplotlib.axes._subplots.AxesSubplot object at 0x000001F78081CA88>,\n",
       "        <matplotlib.axes._subplots.AxesSubplot object at 0x000001F780887048>,\n",
       "        <matplotlib.axes._subplots.AxesSubplot object at 0x000001F7805AA0C8>]],\n",
       "      dtype=object)"
      ]
     },
     "execution_count": 104,
     "metadata": {},
     "output_type": "execute_result"
    },
    {
     "data": {
      "image/png": "[encoded data removed]",
      "text/plain": [
       "<Figure size 1440x1440 with 12 Axes>"
      ]
     },
     "metadata": {
      "needs_background": "light"
     },
     "output_type": "display_data"
    }
   ],
   "source": [
    "surf.hist(column='total_call_time', by='month', bins=20, figsize=(20,20))"
   ]
  },
  {
   "cell_type": "code",
   "execution_count": 105,
   "metadata": {},
   "outputs": [
    {
     "data": {
      "text/plain": [
       "array([[<matplotlib.axes._subplots.AxesSubplot object at 0x000001F78065A348>,\n",
       "        <matplotlib.axes._subplots.AxesSubplot object at 0x000001F7815E3DC8>,\n",
       "        <matplotlib.axes._subplots.AxesSubplot object at 0x000001F780C79348>],\n",
       "       [<matplotlib.axes._subplots.AxesSubplot object at 0x000001F780CA1D08>,\n",
       "        <matplotlib.axes._subplots.AxesSubplot object at 0x000001F780CDB708>,\n",
       "        <matplotlib.axes._subplots.AxesSubplot object at 0x000001F780D17108>],\n",
       "       [<matplotlib.axes._subplots.AxesSubplot object at 0x000001F780D4BDC8>,\n",
       "        <matplotlib.axes._subplots.AxesSubplot object at 0x000001F780D83EC8>,\n",
       "        <matplotlib.axes._subplots.AxesSubplot object at 0x000001F780D8FAC8>],\n",
       "       [<matplotlib.axes._subplots.AxesSubplot object at 0x000001F780DC7C88>,\n",
       "        <matplotlib.axes._subplots.AxesSubplot object at 0x000001F780E32248>,\n",
       "        <matplotlib.axes._subplots.AxesSubplot object at 0x000001F780E69308>]],\n",
       "      dtype=object)"
      ]
     },
     "execution_count": 105,
     "metadata": {},
     "output_type": "execute_result"
    },
    {
     "data": {
      "image/png": "[encoded data removed]",
      "text/plain": [
       "<Figure size 1440x1440 with 12 Axes>"
      ]
     },
     "metadata": {
      "needs_background": "light"
     },
     "output_type": "display_data"
    }
   ],
   "source": [
    "ultimate.hist(column='total_call_time', by='month', bins=20, figsize=(20,20))"
   ]
  },
  {
   "cell_type": "markdown",
   "metadata": {},
   "source": [
    "# Notes"
   ]
  },
  {
   "cell_type": "markdown",
   "metadata": {},
   "source": [
    "The first thing I looked at here was a simple pivot table to view key metrics for both the surf and ultimate plan types. Exploring yearly data first, I could see that those on surf plan used messages, data, and calls near the same rate as those on the ultimate plan. For our purposes, this means the surf plan could be more profitable. With just this yearly data, we also see all the data tends to skew right. This tells us that it's the minority of the customers who make up most of the profit, which seems to follow conventional business wisdom. \n",
    "\n",
    "To further understand these customers that do spend more, it would be prudent to further study their behavior.\n",
    "\n",
    "Next, I created a pivot table of the monthly data for both surf and ultimate. This provides a more granular look at the data. From there, I looked closer at the data points and created some histograms to get a better visualization. At this more granual level, it appears there is more similiarity than not between the different plans. In other words, even if someone is a more \"average\" user, they would tend to spend more on the surf plan as they send at similar levels to the ultimate plan."
   ]
  },
  {
   "cell_type": "markdown",
   "metadata": {},
   "source": [
    "# Part 4. Hypothesis Testing"
   ]
  },
  {
   "cell_type": "code",
   "execution_count": 106,
   "metadata": {},
   "outputs": [],
   "source": [
    "pivot.drop('tariff', axis=1, inplace=True)"
   ]
  },
  {
   "cell_type": "code",
   "execution_count": 107,
   "metadata": {},
   "outputs": [],
   "source": [
    "pivot = pivot.merge(users, on='user_id')"
   ]
  },
  {
   "cell_type": "code",
   "execution_count": 108,
   "metadata": {},
   "outputs": [
    {
     "data": {
      "text/html": [
       "<div>\n",
       "<style scoped>\n",
       "    .dataframe tbody tr th:only-of-type {\n",
       "        vertical-align: middle;\n",
       "    }\n",
       "\n",
       "    .dataframe tbody tr th {\n",
       "        vertical-align: top;\n",
       "    }\n",
       "\n",
       "    .dataframe thead th {\n",
       "        text-align: right;\n",
       "    }\n",
       "</style>\n",
       "<table border=\"1\" class=\"dataframe\">\n",
       "  <thead>\n",
       "    <tr style=\"text-align: right;\">\n",
       "      <th></th>\n",
       "      <th>total_revenue</th>\n",
       "      <th>avg_revenue_per_month</th>\n",
       "      <th>first_name</th>\n",
       "      <th>last_name</th>\n",
       "      <th>age</th>\n",
       "      <th>city</th>\n",
       "      <th>reg_date</th>\n",
       "      <th>tariff</th>\n",
       "      <th>churn_date</th>\n",
       "    </tr>\n",
       "    <tr>\n",
       "      <th>user_id</th>\n",
       "      <th></th>\n",
       "      <th></th>\n",
       "      <th></th>\n",
       "      <th></th>\n",
       "      <th></th>\n",
       "      <th></th>\n",
       "      <th></th>\n",
       "      <th></th>\n",
       "      <th></th>\n",
       "    </tr>\n",
       "  </thead>\n",
       "  <tbody>\n",
       "    <tr>\n",
       "      <td>1000</td>\n",
       "      <td>70.000000</td>\n",
       "      <td>5.833333</td>\n",
       "      <td>Anamaria</td>\n",
       "      <td>Bauer</td>\n",
       "      <td>45</td>\n",
       "      <td>Atlanta-Sandy Springs-Roswell, GA MSA</td>\n",
       "      <td>2018-12-24</td>\n",
       "      <td>ultimate</td>\n",
       "      <td>NaT</td>\n",
       "    </tr>\n",
       "    <tr>\n",
       "      <td>1001</td>\n",
       "      <td>238.742344</td>\n",
       "      <td>19.895195</td>\n",
       "      <td>Mickey</td>\n",
       "      <td>Wilkerson</td>\n",
       "      <td>28</td>\n",
       "      <td>Seattle-Tacoma-Bellevue, WA MSA</td>\n",
       "      <td>2018-08-13</td>\n",
       "      <td>surf</td>\n",
       "      <td>NaT</td>\n",
       "    </tr>\n",
       "    <tr>\n",
       "      <td>1002</td>\n",
       "      <td>99.101562</td>\n",
       "      <td>8.258464</td>\n",
       "      <td>Carlee</td>\n",
       "      <td>Hoffman</td>\n",
       "      <td>36</td>\n",
       "      <td>Las Vegas-Henderson-Paradise, NV MSA</td>\n",
       "      <td>2018-10-21</td>\n",
       "      <td>surf</td>\n",
       "      <td>NaT</td>\n",
       "    </tr>\n",
       "    <tr>\n",
       "      <td>1003</td>\n",
       "      <td>152.465703</td>\n",
       "      <td>12.705475</td>\n",
       "      <td>Reynaldo</td>\n",
       "      <td>Jenkins</td>\n",
       "      <td>52</td>\n",
       "      <td>Tulsa, OK MSA</td>\n",
       "      <td>2018-01-28</td>\n",
       "      <td>surf</td>\n",
       "      <td>NaT</td>\n",
       "    </tr>\n",
       "    <tr>\n",
       "      <td>1004</td>\n",
       "      <td>582.558594</td>\n",
       "      <td>48.546549</td>\n",
       "      <td>Leonila</td>\n",
       "      <td>Thompson</td>\n",
       "      <td>40</td>\n",
       "      <td>Seattle-Tacoma-Bellevue, WA MSA</td>\n",
       "      <td>2018-05-23</td>\n",
       "      <td>surf</td>\n",
       "      <td>NaT</td>\n",
       "    </tr>\n",
       "  </tbody>\n",
       "</table>\n",
       "</div>"
      ],
      "text/plain": [
       "         total_revenue  avg_revenue_per_month first_name  last_name  age  \\\n",
       "user_id                                                                    \n",
       "1000         70.000000               5.833333   Anamaria      Bauer   45   \n",
       "1001        238.742344              19.895195     Mickey  Wilkerson   28   \n",
       "1002         99.101562               8.258464     Carlee    Hoffman   36   \n",
       "1003        152.465703              12.705475   Reynaldo    Jenkins   52   \n",
       "1004        582.558594              48.546549    Leonila   Thompson   40   \n",
       "\n",
       "                                          city   reg_date    tariff churn_date  \n",
       "user_id                                                                         \n",
       "1000     Atlanta-Sandy Springs-Roswell, GA MSA 2018-12-24  ultimate        NaT  \n",
       "1001           Seattle-Tacoma-Bellevue, WA MSA 2018-08-13      surf        NaT  \n",
       "1002      Las Vegas-Henderson-Paradise, NV MSA 2018-10-21      surf        NaT  \n",
       "1003                             Tulsa, OK MSA 2018-01-28      surf        NaT  \n",
       "1004           Seattle-Tacoma-Bellevue, WA MSA 2018-05-23      surf        NaT  "
      ]
     },
     "execution_count": 108,
     "metadata": {},
     "output_type": "execute_result"
    }
   ],
   "source": [
    "pivot.head()"
   ]
  },
  {
   "cell_type": "code",
   "execution_count": 109,
   "metadata": {},
   "outputs": [],
   "source": [
    "surf_df = pivot[pivot['tariff'] == 'surf']"
   ]
  },
  {
   "cell_type": "code",
   "execution_count": 110,
   "metadata": {},
   "outputs": [
    {
     "data": {
      "text/html": [
       "<div>\n",
       "<style scoped>\n",
       "    .dataframe tbody tr th:only-of-type {\n",
       "        vertical-align: middle;\n",
       "    }\n",
       "\n",
       "    .dataframe tbody tr th {\n",
       "        vertical-align: top;\n",
       "    }\n",
       "\n",
       "    .dataframe thead th {\n",
       "        text-align: right;\n",
       "    }\n",
       "</style>\n",
       "<table border=\"1\" class=\"dataframe\">\n",
       "  <thead>\n",
       "    <tr style=\"text-align: right;\">\n",
       "      <th></th>\n",
       "      <th>total_revenue</th>\n",
       "      <th>avg_revenue_per_month</th>\n",
       "      <th>first_name</th>\n",
       "      <th>last_name</th>\n",
       "      <th>age</th>\n",
       "      <th>city</th>\n",
       "      <th>reg_date</th>\n",
       "      <th>tariff</th>\n",
       "      <th>churn_date</th>\n",
       "    </tr>\n",
       "    <tr>\n",
       "      <th>user_id</th>\n",
       "      <th></th>\n",
       "      <th></th>\n",
       "      <th></th>\n",
       "      <th></th>\n",
       "      <th></th>\n",
       "      <th></th>\n",
       "      <th></th>\n",
       "      <th></th>\n",
       "      <th></th>\n",
       "    </tr>\n",
       "  </thead>\n",
       "  <tbody>\n",
       "    <tr>\n",
       "      <td>1001</td>\n",
       "      <td>238.742344</td>\n",
       "      <td>19.895195</td>\n",
       "      <td>Mickey</td>\n",
       "      <td>Wilkerson</td>\n",
       "      <td>28</td>\n",
       "      <td>Seattle-Tacoma-Bellevue, WA MSA</td>\n",
       "      <td>2018-08-13</td>\n",
       "      <td>surf</td>\n",
       "      <td>NaT</td>\n",
       "    </tr>\n",
       "    <tr>\n",
       "      <td>1002</td>\n",
       "      <td>99.101562</td>\n",
       "      <td>8.258464</td>\n",
       "      <td>Carlee</td>\n",
       "      <td>Hoffman</td>\n",
       "      <td>36</td>\n",
       "      <td>Las Vegas-Henderson-Paradise, NV MSA</td>\n",
       "      <td>2018-10-21</td>\n",
       "      <td>surf</td>\n",
       "      <td>NaT</td>\n",
       "    </tr>\n",
       "    <tr>\n",
       "      <td>1003</td>\n",
       "      <td>152.465703</td>\n",
       "      <td>12.705475</td>\n",
       "      <td>Reynaldo</td>\n",
       "      <td>Jenkins</td>\n",
       "      <td>52</td>\n",
       "      <td>Tulsa, OK MSA</td>\n",
       "      <td>2018-01-28</td>\n",
       "      <td>surf</td>\n",
       "      <td>NaT</td>\n",
       "    </tr>\n",
       "    <tr>\n",
       "      <td>1004</td>\n",
       "      <td>582.558594</td>\n",
       "      <td>48.546549</td>\n",
       "      <td>Leonila</td>\n",
       "      <td>Thompson</td>\n",
       "      <td>40</td>\n",
       "      <td>Seattle-Tacoma-Bellevue, WA MSA</td>\n",
       "      <td>2018-05-23</td>\n",
       "      <td>surf</td>\n",
       "      <td>NaT</td>\n",
       "    </tr>\n",
       "    <tr>\n",
       "      <td>1005</td>\n",
       "      <td>37.617188</td>\n",
       "      <td>3.134766</td>\n",
       "      <td>Livia</td>\n",
       "      <td>Shields</td>\n",
       "      <td>31</td>\n",
       "      <td>Dallas-Fort Worth-Arlington, TX MSA</td>\n",
       "      <td>2018-11-29</td>\n",
       "      <td>surf</td>\n",
       "      <td>NaT</td>\n",
       "    </tr>\n",
       "    <tr>\n",
       "      <td>...</td>\n",
       "      <td>...</td>\n",
       "      <td>...</td>\n",
       "      <td>...</td>\n",
       "      <td>...</td>\n",
       "      <td>...</td>\n",
       "      <td>...</td>\n",
       "      <td>...</td>\n",
       "      <td>...</td>\n",
       "      <td>...</td>\n",
       "    </tr>\n",
       "    <tr>\n",
       "      <td>1494</td>\n",
       "      <td>173.242188</td>\n",
       "      <td>14.436849</td>\n",
       "      <td>Preston</td>\n",
       "      <td>Downs</td>\n",
       "      <td>70</td>\n",
       "      <td>New York-Newark-Jersey City, NY-NJ-PA MSA</td>\n",
       "      <td>2018-04-19</td>\n",
       "      <td>surf</td>\n",
       "      <td>NaT</td>\n",
       "    </tr>\n",
       "    <tr>\n",
       "      <td>1495</td>\n",
       "      <td>450.194531</td>\n",
       "      <td>37.516211</td>\n",
       "      <td>Fidel</td>\n",
       "      <td>Sharpe</td>\n",
       "      <td>67</td>\n",
       "      <td>New York-Newark-Jersey City, NY-NJ-PA MSA</td>\n",
       "      <td>2018-09-04</td>\n",
       "      <td>surf</td>\n",
       "      <td>NaT</td>\n",
       "    </tr>\n",
       "    <tr>\n",
       "      <td>1496</td>\n",
       "      <td>121.015625</td>\n",
       "      <td>10.084635</td>\n",
       "      <td>Ariel</td>\n",
       "      <td>Shepherd</td>\n",
       "      <td>49</td>\n",
       "      <td>New Orleans-Metairie, LA MSA</td>\n",
       "      <td>2018-02-20</td>\n",
       "      <td>surf</td>\n",
       "      <td>NaT</td>\n",
       "    </tr>\n",
       "    <tr>\n",
       "      <td>1498</td>\n",
       "      <td>799.814453</td>\n",
       "      <td>66.651204</td>\n",
       "      <td>Scot</td>\n",
       "      <td>Williamson</td>\n",
       "      <td>51</td>\n",
       "      <td>New York-Newark-Jersey City, NY-NJ-PA MSA</td>\n",
       "      <td>2018-02-04</td>\n",
       "      <td>surf</td>\n",
       "      <td>NaT</td>\n",
       "    </tr>\n",
       "    <tr>\n",
       "      <td>1499</td>\n",
       "      <td>200.703125</td>\n",
       "      <td>16.725260</td>\n",
       "      <td>Shena</td>\n",
       "      <td>Dickson</td>\n",
       "      <td>37</td>\n",
       "      <td>Orlando-Kissimmee-Sanford, FL MSA</td>\n",
       "      <td>2018-05-06</td>\n",
       "      <td>surf</td>\n",
       "      <td>NaT</td>\n",
       "    </tr>\n",
       "  </tbody>\n",
       "</table>\n",
       "<p>339 rows × 9 columns</p>\n",
       "</div>"
      ],
      "text/plain": [
       "         total_revenue  avg_revenue_per_month first_name   last_name  age  \\\n",
       "user_id                                                                     \n",
       "1001        238.742344              19.895195     Mickey   Wilkerson   28   \n",
       "1002         99.101562               8.258464     Carlee     Hoffman   36   \n",
       "1003        152.465703              12.705475   Reynaldo     Jenkins   52   \n",
       "1004        582.558594              48.546549    Leonila    Thompson   40   \n",
       "1005         37.617188               3.134766      Livia     Shields   31   \n",
       "...                ...                    ...        ...         ...  ...   \n",
       "1494        173.242188              14.436849    Preston       Downs   70   \n",
       "1495        450.194531              37.516211      Fidel      Sharpe   67   \n",
       "1496        121.015625              10.084635      Ariel    Shepherd   49   \n",
       "1498        799.814453              66.651204       Scot  Williamson   51   \n",
       "1499        200.703125              16.725260      Shena     Dickson   37   \n",
       "\n",
       "                                              city   reg_date tariff  \\\n",
       "user_id                                                                \n",
       "1001               Seattle-Tacoma-Bellevue, WA MSA 2018-08-13   surf   \n",
       "1002          Las Vegas-Henderson-Paradise, NV MSA 2018-10-21   surf   \n",
       "1003                                 Tulsa, OK MSA 2018-01-28   surf   \n",
       "1004               Seattle-Tacoma-Bellevue, WA MSA 2018-05-23   surf   \n",
       "1005           Dallas-Fort Worth-Arlington, TX MSA 2018-11-29   surf   \n",
       "...                                            ...        ...    ...   \n",
       "1494     New York-Newark-Jersey City, NY-NJ-PA MSA 2018-04-19   surf   \n",
       "1495     New York-Newark-Jersey City, NY-NJ-PA MSA 2018-09-04   surf   \n",
       "1496                  New Orleans-Metairie, LA MSA 2018-02-20   surf   \n",
       "1498     New York-Newark-Jersey City, NY-NJ-PA MSA 2018-02-04   surf   \n",
       "1499             Orlando-Kissimmee-Sanford, FL MSA 2018-05-06   surf   \n",
       "\n",
       "        churn_date  \n",
       "user_id             \n",
       "1001           NaT  \n",
       "1002           NaT  \n",
       "1003           NaT  \n",
       "1004           NaT  \n",
       "1005           NaT  \n",
       "...            ...  \n",
       "1494           NaT  \n",
       "1495           NaT  \n",
       "1496           NaT  \n",
       "1498           NaT  \n",
       "1499           NaT  \n",
       "\n",
       "[339 rows x 9 columns]"
      ]
     },
     "execution_count": 110,
     "metadata": {},
     "output_type": "execute_result"
    }
   ],
   "source": [
    "surf_df"
   ]
  },
  {
   "cell_type": "code",
   "execution_count": 111,
   "metadata": {},
   "outputs": [],
   "source": [
    "ultimate_df = pivot[pivot['tariff'] == 'ultimate']"
   ]
  },
  {
   "cell_type": "code",
   "execution_count": 112,
   "metadata": {},
   "outputs": [],
   "source": [
    "monthly_revenue_surf = surf_df['avg_revenue_per_month'].tolist()\n",
    "monthly_revenue_ultimate = ultimate_df['avg_revenue_per_month'].tolist()"
   ]
  },
  {
   "cell_type": "code",
   "execution_count": 113,
   "metadata": {},
   "outputs": [],
   "source": [
    "results = st.ttest_ind(monthly_revenue_surf, monthly_revenue_ultimate)"
   ]
  },
  {
   "cell_type": "code",
   "execution_count": 114,
   "metadata": {},
   "outputs": [
    {
     "data": {
      "text/plain": [
       "Ttest_indResult(statistic=-2.39744493536189, pvalue=0.016877222311760032)"
      ]
     },
     "execution_count": 114,
     "metadata": {},
     "output_type": "execute_result"
    }
   ],
   "source": [
    "results"
   ]
  },
  {
   "cell_type": "code",
   "execution_count": 115,
   "metadata": {},
   "outputs": [],
   "source": [
    "def by_state(row):\n",
    "    if 'NY' in row['city'] or 'NJ' in row['city']:\n",
    "        return 'NY/NJ'\n",
    "    else: \n",
    "        return 'Other'"
   ]
  },
  {
   "cell_type": "code",
   "execution_count": 116,
   "metadata": {},
   "outputs": [],
   "source": [
    "pivot['state'] = pivot.apply(by_state, axis=1)"
   ]
  },
  {
   "cell_type": "code",
   "execution_count": 117,
   "metadata": {
    "scrolled": true
   },
   "outputs": [
    {
     "data": {
      "text/html": [
       "<div>\n",
       "<style scoped>\n",
       "    .dataframe tbody tr th:only-of-type {\n",
       "        vertical-align: middle;\n",
       "    }\n",
       "\n",
       "    .dataframe tbody tr th {\n",
       "        vertical-align: top;\n",
       "    }\n",
       "\n",
       "    .dataframe thead th {\n",
       "        text-align: right;\n",
       "    }\n",
       "</style>\n",
       "<table border=\"1\" class=\"dataframe\">\n",
       "  <thead>\n",
       "    <tr style=\"text-align: right;\">\n",
       "      <th></th>\n",
       "      <th>total_revenue</th>\n",
       "      <th>avg_revenue_per_month</th>\n",
       "      <th>first_name</th>\n",
       "      <th>last_name</th>\n",
       "      <th>age</th>\n",
       "      <th>city</th>\n",
       "      <th>reg_date</th>\n",
       "      <th>tariff</th>\n",
       "      <th>churn_date</th>\n",
       "      <th>state</th>\n",
       "    </tr>\n",
       "    <tr>\n",
       "      <th>user_id</th>\n",
       "      <th></th>\n",
       "      <th></th>\n",
       "      <th></th>\n",
       "      <th></th>\n",
       "      <th></th>\n",
       "      <th></th>\n",
       "      <th></th>\n",
       "      <th></th>\n",
       "      <th></th>\n",
       "      <th></th>\n",
       "    </tr>\n",
       "  </thead>\n",
       "  <tbody>\n",
       "    <tr>\n",
       "      <td>1000</td>\n",
       "      <td>70.000000</td>\n",
       "      <td>5.833333</td>\n",
       "      <td>Anamaria</td>\n",
       "      <td>Bauer</td>\n",
       "      <td>45</td>\n",
       "      <td>Atlanta-Sandy Springs-Roswell, GA MSA</td>\n",
       "      <td>2018-12-24</td>\n",
       "      <td>ultimate</td>\n",
       "      <td>NaT</td>\n",
       "      <td>Other</td>\n",
       "    </tr>\n",
       "    <tr>\n",
       "      <td>1001</td>\n",
       "      <td>238.742344</td>\n",
       "      <td>19.895195</td>\n",
       "      <td>Mickey</td>\n",
       "      <td>Wilkerson</td>\n",
       "      <td>28</td>\n",
       "      <td>Seattle-Tacoma-Bellevue, WA MSA</td>\n",
       "      <td>2018-08-13</td>\n",
       "      <td>surf</td>\n",
       "      <td>NaT</td>\n",
       "      <td>Other</td>\n",
       "    </tr>\n",
       "    <tr>\n",
       "      <td>1002</td>\n",
       "      <td>99.101562</td>\n",
       "      <td>8.258464</td>\n",
       "      <td>Carlee</td>\n",
       "      <td>Hoffman</td>\n",
       "      <td>36</td>\n",
       "      <td>Las Vegas-Henderson-Paradise, NV MSA</td>\n",
       "      <td>2018-10-21</td>\n",
       "      <td>surf</td>\n",
       "      <td>NaT</td>\n",
       "      <td>Other</td>\n",
       "    </tr>\n",
       "    <tr>\n",
       "      <td>1003</td>\n",
       "      <td>152.465703</td>\n",
       "      <td>12.705475</td>\n",
       "      <td>Reynaldo</td>\n",
       "      <td>Jenkins</td>\n",
       "      <td>52</td>\n",
       "      <td>Tulsa, OK MSA</td>\n",
       "      <td>2018-01-28</td>\n",
       "      <td>surf</td>\n",
       "      <td>NaT</td>\n",
       "      <td>Other</td>\n",
       "    </tr>\n",
       "    <tr>\n",
       "      <td>1004</td>\n",
       "      <td>582.558594</td>\n",
       "      <td>48.546549</td>\n",
       "      <td>Leonila</td>\n",
       "      <td>Thompson</td>\n",
       "      <td>40</td>\n",
       "      <td>Seattle-Tacoma-Bellevue, WA MSA</td>\n",
       "      <td>2018-05-23</td>\n",
       "      <td>surf</td>\n",
       "      <td>NaT</td>\n",
       "      <td>Other</td>\n",
       "    </tr>\n",
       "  </tbody>\n",
       "</table>\n",
       "</div>"
      ],
      "text/plain": [
       "         total_revenue  avg_revenue_per_month first_name  last_name  age  \\\n",
       "user_id                                                                    \n",
       "1000         70.000000               5.833333   Anamaria      Bauer   45   \n",
       "1001        238.742344              19.895195     Mickey  Wilkerson   28   \n",
       "1002         99.101562               8.258464     Carlee    Hoffman   36   \n",
       "1003        152.465703              12.705475   Reynaldo    Jenkins   52   \n",
       "1004        582.558594              48.546549    Leonila   Thompson   40   \n",
       "\n",
       "                                          city   reg_date    tariff  \\\n",
       "user_id                                                               \n",
       "1000     Atlanta-Sandy Springs-Roswell, GA MSA 2018-12-24  ultimate   \n",
       "1001           Seattle-Tacoma-Bellevue, WA MSA 2018-08-13      surf   \n",
       "1002      Las Vegas-Henderson-Paradise, NV MSA 2018-10-21      surf   \n",
       "1003                             Tulsa, OK MSA 2018-01-28      surf   \n",
       "1004           Seattle-Tacoma-Bellevue, WA MSA 2018-05-23      surf   \n",
       "\n",
       "        churn_date  state  \n",
       "user_id                    \n",
       "1000           NaT  Other  \n",
       "1001           NaT  Other  \n",
       "1002           NaT  Other  \n",
       "1003           NaT  Other  \n",
       "1004           NaT  Other  "
      ]
     },
     "execution_count": 117,
     "metadata": {},
     "output_type": "execute_result"
    }
   ],
   "source": [
    "pivot.head()"
   ]
  },
  {
   "cell_type": "code",
   "execution_count": 118,
   "metadata": {},
   "outputs": [],
   "source": [
    "ny_df = pivot[pivot['state'] == 'NY/NJ']"
   ]
  },
  {
   "cell_type": "code",
   "execution_count": 119,
   "metadata": {},
   "outputs": [],
   "source": [
    "other_df = pivot[pivot['state'] == 'Other']"
   ]
  },
  {
   "cell_type": "code",
   "execution_count": 120,
   "metadata": {},
   "outputs": [],
   "source": [
    "monthly_revenue_ny = ny_df['avg_revenue_per_month'].tolist()\n",
    "monthly_revenue_other = other_df['avg_revenue_per_month'].tolist()"
   ]
  },
  {
   "cell_type": "code",
   "execution_count": 121,
   "metadata": {},
   "outputs": [],
   "source": [
    "results2 = st.ttest_ind(monthly_revenue_ny, monthly_revenue_other)"
   ]
  },
  {
   "cell_type": "code",
   "execution_count": 122,
   "metadata": {},
   "outputs": [
    {
     "data": {
      "text/plain": [
       "Ttest_indResult(statistic=-0.3571583189703668, pvalue=0.721124584720332)"
      ]
     },
     "execution_count": 122,
     "metadata": {},
     "output_type": "execute_result"
    }
   ],
   "source": [
    "results2"
   ]
  },
  {
   "cell_type": "markdown",
   "metadata": {},
   "source": [
    "We wanted to test two main hypotheses in this section. First, whether there was a clear different between surf and ultimate average monthly income. This can be achieved by presenting a null hypothesis: there is no difference between the two. Or, the alternative: there is a difference. With a simple t-test, we find that our pvalue is 0.013, which is within a 5% confidence threshold. Knowing this, and adding in our observed data visualizations, it seems reasonable to reject the null hypothesis in favor of the alternative. This warrants further exploration to see if we can figure out who the \"ideal\" customers would be and how to ensure we sign up more of them on the surf plan. \n",
    "\n",
    "The second hypothesis is whether or not people in NY/NJ might skew the data. Said more accurately, do we note a significantly higher revenue from these cities. To do this, we split the data by location so that NY/NJ was in one group and the rest in the other. We performed another 2-sided t-test. The null hypothesis in this case is that there is no difference between these states and the others. The alternative is that there is a significant difference. In this case, we cannot reject the null hypothesis because our pvalue is very high -showing that there is a good chance of getting a similar mean in and otherside the NY/NJ area. "
   ]
  },
  {
   "cell_type": "markdown",
   "metadata": {},
   "source": [
    "# Part 5. Overall Conclusions"
   ]
  },
  {
   "cell_type": "markdown",
   "metadata": {},
   "source": [
    "Overall, I would recommend the company promote the surf plan more often than not. To get the absolute best profits, I would further recommend digging into users on the surf plan who are hitting these higher monthly average to better learn about their situations. This might help target marketing efforts to reach more high-paying customers. "
   ]
  }
 ],
 "metadata": {
  "kernelspec": {
   "display_name": "Python 3",
   "language": "python",
   "name": "python3"
  },
  "language_info": {
   "codemirror_mode": {
    "name": "ipython",
    "version": 3
   },
   "file_extension": ".py",
   "mimetype": "text/x-python",
   "name": "python",
   "nbconvert_exporter": "python",
   "pygments_lexer": "ipython3",
   "version": "3.7.4"
  }
 },
 "nbformat": 4,
 "nbformat_minor": 2
}
